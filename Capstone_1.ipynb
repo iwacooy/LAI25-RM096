{
  "cells": [
    {
      "cell_type": "markdown",
      "metadata": {
        "id": "view-in-github",
        "colab_type": "text"
      },
      "source": [
        "<a href=\"https://colab.research.google.com/github/iwacooy/LAI25-RM096/blob/main/Capstone_1.ipynb\" target=\"_parent\"><img src=\"https://colab.research.google.com/assets/colab-badge.svg\" alt=\"Open In Colab\"/></a>"
      ]
    },
    {
      "cell_type": "markdown",
      "metadata": {
        "id": "SMDK-4lOOIBd"
      },
      "source": [
        "# Capstone Project : Menyelesaikan Permasalahan Perusahaan Asuransi dengan Mendeteksi Penipuan Terhadapa Klaim Asuransi Perusahaan."
      ]
    },
    {
      "cell_type": "markdown",
      "metadata": {
        "id": "IpwygkGmOIBi"
      },
      "source": [
        "**Grup LAI25-RM096**\n",
        "\n",
        "- A225YBF247\t = Khamdan Annas Fakhryza\n",
        "- A015YBF265\t = Mahendra Nabiha Wisnu Aditya\n",
        "- A429XBF292\t = Mu'azah Al'adawiyah\n",
        "- A215YBM352\t = Muhammad Salwa Fairus Santoso\n"
      ]
    },
    {
      "cell_type": "markdown",
      "source": [
        "## Deskripsi Project"
      ],
      "metadata": {
        "id": "zJAZMILvWnTu"
      }
    },
    {
      "cell_type": "markdown",
      "source": [
        "Dalam industri asuransi, memprediksi kemungkinan klaim secara akurat sangat penting untuk penilaian risiko dan penetapan harga polis. Namun, kumpulan data klaim asuransi sering kali mengalami ketidakseimbangan kelas, di mana jumlah kejadian non-klaim jauh melebihi klaim aktual. Ketidakseimbangan kelas ini menimbulkan tantangan untuk pemodelan prediktif, yang sering kali mengarah pada model yang bias yang lebih memihak kelas mayoritas, sehingga menghasilkan kinerja yang buruk untuk kelas minoritas, yang biasanya lebih diminati.\n"
      ],
      "metadata": {
        "id": "xaszPhd2W3Jx"
      }
    },
    {
      "cell_type": "markdown",
      "metadata": {
        "id": "h1cmQ0ISOIBl"
      },
      "source": [
        "## Persiapan"
      ]
    },
    {
      "cell_type": "markdown",
      "metadata": {
        "id": "4Vr6pFBUOIBm"
      },
      "source": [
        "### Menyiapkan library yang dibutuhkan"
      ]
    },
    {
      "cell_type": "code",
      "execution_count": 3,
      "metadata": {
        "id": "QoGJaA6hQ-WZ"
      },
      "outputs": [],
      "source": [
        "# === IMPORT LIBRARY ===\n",
        "import numpy as np\n",
        "import pandas as pd\n",
        "import matplotlib.pyplot as plt\n",
        "import seaborn as sns\n",
        "\n",
        "from sklearn.model_selection import train_test_split\n",
        "from sklearn.pipeline import Pipeline\n",
        "from sklearn.preprocessing import StandardScaler, OneHotEncoder\n",
        "from sklearn.compose import ColumnTransformer\n",
        "from sklearn.decomposition import PCA\n",
        "from sklearn.tree import DecisionTreeClassifier\n",
        "from sklearn.ensemble import RandomForestClassifier\n",
        "from sklearn.metrics import classification_report, confusion_matrix, roc_auc_score\n",
        "from imblearn.over_sampling import SMOTE\n",
        "import joblib"
      ]
    },
    {
      "cell_type": "code",
      "execution_count": 4,
      "metadata": {
        "colab": {
          "base_uri": "https://localhost:8080/"
        },
        "id": "LJcghubMQKgt",
        "outputId": "ae59feb9-502f-4f67-d9b6-7c07749e740f"
      },
      "outputs": [
        {
          "output_type": "stream",
          "name": "stdout",
          "text": [
            "numpy: 2.0.2\n",
            "pandas: 2.2.2\n",
            "matplotlib: 3.10.0\n",
            "seaborn: 0.13.2\n",
            "scikit-learn: 1.6.1\n",
            "scipy: 1.15.3\n",
            "joblib: 1.5.0\n",
            "sqlalchemy: 2.0.41\n"
          ]
        }
      ],
      "source": [
        "# === CEK VERSI PAKET ===\n",
        "import matplotlib\n",
        "import sklearn\n",
        "import scipy\n",
        "import sqlalchemy\n",
        "\n",
        "packages = {\n",
        "    \"numpy\": np.__version__,\n",
        "    \"pandas\": pd.__version__,\n",
        "    \"matplotlib\": matplotlib.__version__,\n",
        "    \"seaborn\": sns.__version__,\n",
        "    \"scikit-learn\": sklearn.__version__,\n",
        "    \"scipy\": scipy.__version__,\n",
        "    \"joblib\": joblib.__version__,\n",
        "    \"sqlalchemy\": sqlalchemy.__version__,\n",
        "}\n",
        "\n",
        "for name, version in packages.items():\n",
        "    print(f\"{name}: {version}\")"
      ]
    },
    {
      "cell_type": "markdown",
      "metadata": {
        "id": "zpdzoLi6OIBo"
      },
      "source": [
        "### Menyiapkan data yang akan digunakan"
      ]
    },
    {
      "cell_type": "code",
      "source": [
        "!curl -L -o insurance-claims.zip\\\n",
        "  https://www.kaggle.com/api/v1/datasets/download/litvinenko630/insurance-claims"
      ],
      "metadata": {
        "colab": {
          "base_uri": "https://localhost:8080/"
        },
        "id": "3e3XzXs8-szb",
        "outputId": "37e7a60f-2af7-41c5-818c-2261c9841641"
      },
      "execution_count": 5,
      "outputs": [
        {
          "output_type": "stream",
          "name": "stdout",
          "text": [
            "  % Total    % Received % Xferd  Average Speed   Time    Time     Time  Current\n",
            "                                 Dload  Upload   Total   Spent    Left  Speed\n",
            "  0     0    0     0    0     0      0      0 --:--:-- --:--:-- --:--:--     0\n",
            "100  672k  100  672k    0     0  1769k      0 --:--:-- --:--:-- --:--:-- 1769k\n"
          ]
        }
      ]
    },
    {
      "cell_type": "code",
      "source": [
        "!unzip insurance-claims.zip"
      ],
      "metadata": {
        "id": "6iCNfXDR_C-I",
        "colab": {
          "base_uri": "https://localhost:8080/"
        },
        "outputId": "30ef9a9f-ef47-4638-ed1d-eb2b794fa264"
      },
      "execution_count": 6,
      "outputs": [
        {
          "output_type": "stream",
          "name": "stdout",
          "text": [
            "Archive:  insurance-claims.zip\n",
            "  inflating: Insurance claims data.csv  \n"
          ]
        }
      ]
    },
    {
      "cell_type": "code",
      "execution_count": 7,
      "metadata": {
        "id": "DEBxMEmrmKbF",
        "colab": {
          "base_uri": "https://localhost:8080/"
        },
        "outputId": "4dfca1d5-b5cc-4da6-e4f6-39f3f9a96a17"
      },
      "outputs": [
        {
          "output_type": "stream",
          "name": "stdout",
          "text": [
            "   policy_id  subscription_length  vehicle_age  customer_age region_code  \\\n",
            "0  POL045360                  9.3          1.2            41          C8   \n",
            "1  POL016745                  8.2          1.8            35          C2   \n",
            "2  POL007194                  9.5          0.2            44          C8   \n",
            "3  POL018146                  5.2          0.4            44         C10   \n",
            "4  POL049011                 10.1          1.0            56         C13   \n",
            "\n",
            "   region_density segment model fuel_type     max_torque  ... is_brake_assist  \\\n",
            "0            8794      C2    M4    Diesel  250Nm@2750rpm  ...             Yes   \n",
            "1           27003      C1    M9    Diesel  200Nm@1750rpm  ...              No   \n",
            "2            8794      C2    M4    Diesel  250Nm@2750rpm  ...             Yes   \n",
            "3           73430       A    M1       CNG   60Nm@3500rpm  ...              No   \n",
            "4            5410      B2    M5    Diesel  200Nm@3000rpm  ...              No   \n",
            "\n",
            "  is_power_door_locks  is_central_locking is_power_steering  \\\n",
            "0                 Yes                 Yes               Yes   \n",
            "1                 Yes                 Yes               Yes   \n",
            "2                 Yes                 Yes               Yes   \n",
            "3                  No                  No               Yes   \n",
            "4                 Yes                 Yes               Yes   \n",
            "\n",
            "  is_driver_seat_height_adjustable is_day_night_rear_view_mirror is_ecw  \\\n",
            "0                              Yes                            No    Yes   \n",
            "1                              Yes                           Yes    Yes   \n",
            "2                              Yes                            No    Yes   \n",
            "3                               No                            No     No   \n",
            "4                               No                            No    Yes   \n",
            "\n",
            "  is_speed_alert ncap_rating  claim_status  \n",
            "0            Yes           3             0  \n",
            "1            Yes           4             0  \n",
            "2            Yes           3             0  \n",
            "3            Yes           0             0  \n",
            "4            Yes           5             0  \n",
            "\n",
            "[5 rows x 41 columns]\n"
          ]
        }
      ],
      "source": [
        "df = pd.read_csv(\"Insurance claims data.csv\")\n",
        "\n",
        "print(df.head())"
      ]
    },
    {
      "cell_type": "markdown",
      "metadata": {
        "id": "j1b_Mjh4OIBo"
      },
      "source": [
        "## Data Understanding"
      ]
    },
    {
      "cell_type": "markdown",
      "metadata": {
        "id": "2JYXkPr7g70Q"
      },
      "source": [
        "- Menampilkan kembali dataset 5 baris pertama dari data tersebut."
      ]
    },
    {
      "cell_type": "code",
      "execution_count": 8,
      "metadata": {
        "id": "d2wwHAt0OIBp",
        "colab": {
          "base_uri": "https://localhost:8080/",
          "height": 256
        },
        "outputId": "5a210e8c-44c3-41ee-a476-d4f67103dd2c"
      },
      "outputs": [
        {
          "output_type": "execute_result",
          "data": {
            "text/plain": [
              "   policy_id  subscription_length  vehicle_age  customer_age region_code  \\\n",
              "0  POL045360                  9.3          1.2            41          C8   \n",
              "1  POL016745                  8.2          1.8            35          C2   \n",
              "2  POL007194                  9.5          0.2            44          C8   \n",
              "3  POL018146                  5.2          0.4            44         C10   \n",
              "4  POL049011                 10.1          1.0            56         C13   \n",
              "\n",
              "   region_density segment model fuel_type     max_torque  ... is_brake_assist  \\\n",
              "0            8794      C2    M4    Diesel  250Nm@2750rpm  ...             Yes   \n",
              "1           27003      C1    M9    Diesel  200Nm@1750rpm  ...              No   \n",
              "2            8794      C2    M4    Diesel  250Nm@2750rpm  ...             Yes   \n",
              "3           73430       A    M1       CNG   60Nm@3500rpm  ...              No   \n",
              "4            5410      B2    M5    Diesel  200Nm@3000rpm  ...              No   \n",
              "\n",
              "  is_power_door_locks  is_central_locking is_power_steering  \\\n",
              "0                 Yes                 Yes               Yes   \n",
              "1                 Yes                 Yes               Yes   \n",
              "2                 Yes                 Yes               Yes   \n",
              "3                  No                  No               Yes   \n",
              "4                 Yes                 Yes               Yes   \n",
              "\n",
              "  is_driver_seat_height_adjustable is_day_night_rear_view_mirror is_ecw  \\\n",
              "0                              Yes                            No    Yes   \n",
              "1                              Yes                           Yes    Yes   \n",
              "2                              Yes                            No    Yes   \n",
              "3                               No                            No     No   \n",
              "4                               No                            No    Yes   \n",
              "\n",
              "  is_speed_alert ncap_rating  claim_status  \n",
              "0            Yes           3             0  \n",
              "1            Yes           4             0  \n",
              "2            Yes           3             0  \n",
              "3            Yes           0             0  \n",
              "4            Yes           5             0  \n",
              "\n",
              "[5 rows x 41 columns]"
            ],
            "text/html": [
              "\n",
              "  <div id=\"df-77f97632-d990-4070-83e0-70840836c2c9\" class=\"colab-df-container\">\n",
              "    <div>\n",
              "<style scoped>\n",
              "    .dataframe tbody tr th:only-of-type {\n",
              "        vertical-align: middle;\n",
              "    }\n",
              "\n",
              "    .dataframe tbody tr th {\n",
              "        vertical-align: top;\n",
              "    }\n",
              "\n",
              "    .dataframe thead th {\n",
              "        text-align: right;\n",
              "    }\n",
              "</style>\n",
              "<table border=\"1\" class=\"dataframe\">\n",
              "  <thead>\n",
              "    <tr style=\"text-align: right;\">\n",
              "      <th></th>\n",
              "      <th>policy_id</th>\n",
              "      <th>subscription_length</th>\n",
              "      <th>vehicle_age</th>\n",
              "      <th>customer_age</th>\n",
              "      <th>region_code</th>\n",
              "      <th>region_density</th>\n",
              "      <th>segment</th>\n",
              "      <th>model</th>\n",
              "      <th>fuel_type</th>\n",
              "      <th>max_torque</th>\n",
              "      <th>...</th>\n",
              "      <th>is_brake_assist</th>\n",
              "      <th>is_power_door_locks</th>\n",
              "      <th>is_central_locking</th>\n",
              "      <th>is_power_steering</th>\n",
              "      <th>is_driver_seat_height_adjustable</th>\n",
              "      <th>is_day_night_rear_view_mirror</th>\n",
              "      <th>is_ecw</th>\n",
              "      <th>is_speed_alert</th>\n",
              "      <th>ncap_rating</th>\n",
              "      <th>claim_status</th>\n",
              "    </tr>\n",
              "  </thead>\n",
              "  <tbody>\n",
              "    <tr>\n",
              "      <th>0</th>\n",
              "      <td>POL045360</td>\n",
              "      <td>9.3</td>\n",
              "      <td>1.2</td>\n",
              "      <td>41</td>\n",
              "      <td>C8</td>\n",
              "      <td>8794</td>\n",
              "      <td>C2</td>\n",
              "      <td>M4</td>\n",
              "      <td>Diesel</td>\n",
              "      <td>250Nm@2750rpm</td>\n",
              "      <td>...</td>\n",
              "      <td>Yes</td>\n",
              "      <td>Yes</td>\n",
              "      <td>Yes</td>\n",
              "      <td>Yes</td>\n",
              "      <td>Yes</td>\n",
              "      <td>No</td>\n",
              "      <td>Yes</td>\n",
              "      <td>Yes</td>\n",
              "      <td>3</td>\n",
              "      <td>0</td>\n",
              "    </tr>\n",
              "    <tr>\n",
              "      <th>1</th>\n",
              "      <td>POL016745</td>\n",
              "      <td>8.2</td>\n",
              "      <td>1.8</td>\n",
              "      <td>35</td>\n",
              "      <td>C2</td>\n",
              "      <td>27003</td>\n",
              "      <td>C1</td>\n",
              "      <td>M9</td>\n",
              "      <td>Diesel</td>\n",
              "      <td>200Nm@1750rpm</td>\n",
              "      <td>...</td>\n",
              "      <td>No</td>\n",
              "      <td>Yes</td>\n",
              "      <td>Yes</td>\n",
              "      <td>Yes</td>\n",
              "      <td>Yes</td>\n",
              "      <td>Yes</td>\n",
              "      <td>Yes</td>\n",
              "      <td>Yes</td>\n",
              "      <td>4</td>\n",
              "      <td>0</td>\n",
              "    </tr>\n",
              "    <tr>\n",
              "      <th>2</th>\n",
              "      <td>POL007194</td>\n",
              "      <td>9.5</td>\n",
              "      <td>0.2</td>\n",
              "      <td>44</td>\n",
              "      <td>C8</td>\n",
              "      <td>8794</td>\n",
              "      <td>C2</td>\n",
              "      <td>M4</td>\n",
              "      <td>Diesel</td>\n",
              "      <td>250Nm@2750rpm</td>\n",
              "      <td>...</td>\n",
              "      <td>Yes</td>\n",
              "      <td>Yes</td>\n",
              "      <td>Yes</td>\n",
              "      <td>Yes</td>\n",
              "      <td>Yes</td>\n",
              "      <td>No</td>\n",
              "      <td>Yes</td>\n",
              "      <td>Yes</td>\n",
              "      <td>3</td>\n",
              "      <td>0</td>\n",
              "    </tr>\n",
              "    <tr>\n",
              "      <th>3</th>\n",
              "      <td>POL018146</td>\n",
              "      <td>5.2</td>\n",
              "      <td>0.4</td>\n",
              "      <td>44</td>\n",
              "      <td>C10</td>\n",
              "      <td>73430</td>\n",
              "      <td>A</td>\n",
              "      <td>M1</td>\n",
              "      <td>CNG</td>\n",
              "      <td>60Nm@3500rpm</td>\n",
              "      <td>...</td>\n",
              "      <td>No</td>\n",
              "      <td>No</td>\n",
              "      <td>No</td>\n",
              "      <td>Yes</td>\n",
              "      <td>No</td>\n",
              "      <td>No</td>\n",
              "      <td>No</td>\n",
              "      <td>Yes</td>\n",
              "      <td>0</td>\n",
              "      <td>0</td>\n",
              "    </tr>\n",
              "    <tr>\n",
              "      <th>4</th>\n",
              "      <td>POL049011</td>\n",
              "      <td>10.1</td>\n",
              "      <td>1.0</td>\n",
              "      <td>56</td>\n",
              "      <td>C13</td>\n",
              "      <td>5410</td>\n",
              "      <td>B2</td>\n",
              "      <td>M5</td>\n",
              "      <td>Diesel</td>\n",
              "      <td>200Nm@3000rpm</td>\n",
              "      <td>...</td>\n",
              "      <td>No</td>\n",
              "      <td>Yes</td>\n",
              "      <td>Yes</td>\n",
              "      <td>Yes</td>\n",
              "      <td>No</td>\n",
              "      <td>No</td>\n",
              "      <td>Yes</td>\n",
              "      <td>Yes</td>\n",
              "      <td>5</td>\n",
              "      <td>0</td>\n",
              "    </tr>\n",
              "  </tbody>\n",
              "</table>\n",
              "<p>5 rows × 41 columns</p>\n",
              "</div>\n",
              "    <div class=\"colab-df-buttons\">\n",
              "\n",
              "  <div class=\"colab-df-container\">\n",
              "    <button class=\"colab-df-convert\" onclick=\"convertToInteractive('df-77f97632-d990-4070-83e0-70840836c2c9')\"\n",
              "            title=\"Convert this dataframe to an interactive table.\"\n",
              "            style=\"display:none;\">\n",
              "\n",
              "  <svg xmlns=\"http://www.w3.org/2000/svg\" height=\"24px\" viewBox=\"0 -960 960 960\">\n",
              "    <path d=\"M120-120v-720h720v720H120Zm60-500h600v-160H180v160Zm220 220h160v-160H400v160Zm0 220h160v-160H400v160ZM180-400h160v-160H180v160Zm440 0h160v-160H620v160ZM180-180h160v-160H180v160Zm440 0h160v-160H620v160Z\"/>\n",
              "  </svg>\n",
              "    </button>\n",
              "\n",
              "  <style>\n",
              "    .colab-df-container {\n",
              "      display:flex;\n",
              "      gap: 12px;\n",
              "    }\n",
              "\n",
              "    .colab-df-convert {\n",
              "      background-color: #E8F0FE;\n",
              "      border: none;\n",
              "      border-radius: 50%;\n",
              "      cursor: pointer;\n",
              "      display: none;\n",
              "      fill: #1967D2;\n",
              "      height: 32px;\n",
              "      padding: 0 0 0 0;\n",
              "      width: 32px;\n",
              "    }\n",
              "\n",
              "    .colab-df-convert:hover {\n",
              "      background-color: #E2EBFA;\n",
              "      box-shadow: 0px 1px 2px rgba(60, 64, 67, 0.3), 0px 1px 3px 1px rgba(60, 64, 67, 0.15);\n",
              "      fill: #174EA6;\n",
              "    }\n",
              "\n",
              "    .colab-df-buttons div {\n",
              "      margin-bottom: 4px;\n",
              "    }\n",
              "\n",
              "    [theme=dark] .colab-df-convert {\n",
              "      background-color: #3B4455;\n",
              "      fill: #D2E3FC;\n",
              "    }\n",
              "\n",
              "    [theme=dark] .colab-df-convert:hover {\n",
              "      background-color: #434B5C;\n",
              "      box-shadow: 0px 1px 3px 1px rgba(0, 0, 0, 0.15);\n",
              "      filter: drop-shadow(0px 1px 2px rgba(0, 0, 0, 0.3));\n",
              "      fill: #FFFFFF;\n",
              "    }\n",
              "  </style>\n",
              "\n",
              "    <script>\n",
              "      const buttonEl =\n",
              "        document.querySelector('#df-77f97632-d990-4070-83e0-70840836c2c9 button.colab-df-convert');\n",
              "      buttonEl.style.display =\n",
              "        google.colab.kernel.accessAllowed ? 'block' : 'none';\n",
              "\n",
              "      async function convertToInteractive(key) {\n",
              "        const element = document.querySelector('#df-77f97632-d990-4070-83e0-70840836c2c9');\n",
              "        const dataTable =\n",
              "          await google.colab.kernel.invokeFunction('convertToInteractive',\n",
              "                                                    [key], {});\n",
              "        if (!dataTable) return;\n",
              "\n",
              "        const docLinkHtml = 'Like what you see? Visit the ' +\n",
              "          '<a target=\"_blank\" href=https://colab.research.google.com/notebooks/data_table.ipynb>data table notebook</a>'\n",
              "          + ' to learn more about interactive tables.';\n",
              "        element.innerHTML = '';\n",
              "        dataTable['output_type'] = 'display_data';\n",
              "        await google.colab.output.renderOutput(dataTable, element);\n",
              "        const docLink = document.createElement('div');\n",
              "        docLink.innerHTML = docLinkHtml;\n",
              "        element.appendChild(docLink);\n",
              "      }\n",
              "    </script>\n",
              "  </div>\n",
              "\n",
              "\n",
              "    <div id=\"df-50c535f4-d40f-4c8b-b390-03c49ff786b6\">\n",
              "      <button class=\"colab-df-quickchart\" onclick=\"quickchart('df-50c535f4-d40f-4c8b-b390-03c49ff786b6')\"\n",
              "                title=\"Suggest charts\"\n",
              "                style=\"display:none;\">\n",
              "\n",
              "<svg xmlns=\"http://www.w3.org/2000/svg\" height=\"24px\"viewBox=\"0 0 24 24\"\n",
              "     width=\"24px\">\n",
              "    <g>\n",
              "        <path d=\"M19 3H5c-1.1 0-2 .9-2 2v14c0 1.1.9 2 2 2h14c1.1 0 2-.9 2-2V5c0-1.1-.9-2-2-2zM9 17H7v-7h2v7zm4 0h-2V7h2v10zm4 0h-2v-4h2v4z\"/>\n",
              "    </g>\n",
              "</svg>\n",
              "      </button>\n",
              "\n",
              "<style>\n",
              "  .colab-df-quickchart {\n",
              "      --bg-color: #E8F0FE;\n",
              "      --fill-color: #1967D2;\n",
              "      --hover-bg-color: #E2EBFA;\n",
              "      --hover-fill-color: #174EA6;\n",
              "      --disabled-fill-color: #AAA;\n",
              "      --disabled-bg-color: #DDD;\n",
              "  }\n",
              "\n",
              "  [theme=dark] .colab-df-quickchart {\n",
              "      --bg-color: #3B4455;\n",
              "      --fill-color: #D2E3FC;\n",
              "      --hover-bg-color: #434B5C;\n",
              "      --hover-fill-color: #FFFFFF;\n",
              "      --disabled-bg-color: #3B4455;\n",
              "      --disabled-fill-color: #666;\n",
              "  }\n",
              "\n",
              "  .colab-df-quickchart {\n",
              "    background-color: var(--bg-color);\n",
              "    border: none;\n",
              "    border-radius: 50%;\n",
              "    cursor: pointer;\n",
              "    display: none;\n",
              "    fill: var(--fill-color);\n",
              "    height: 32px;\n",
              "    padding: 0;\n",
              "    width: 32px;\n",
              "  }\n",
              "\n",
              "  .colab-df-quickchart:hover {\n",
              "    background-color: var(--hover-bg-color);\n",
              "    box-shadow: 0 1px 2px rgba(60, 64, 67, 0.3), 0 1px 3px 1px rgba(60, 64, 67, 0.15);\n",
              "    fill: var(--button-hover-fill-color);\n",
              "  }\n",
              "\n",
              "  .colab-df-quickchart-complete:disabled,\n",
              "  .colab-df-quickchart-complete:disabled:hover {\n",
              "    background-color: var(--disabled-bg-color);\n",
              "    fill: var(--disabled-fill-color);\n",
              "    box-shadow: none;\n",
              "  }\n",
              "\n",
              "  .colab-df-spinner {\n",
              "    border: 2px solid var(--fill-color);\n",
              "    border-color: transparent;\n",
              "    border-bottom-color: var(--fill-color);\n",
              "    animation:\n",
              "      spin 1s steps(1) infinite;\n",
              "  }\n",
              "\n",
              "  @keyframes spin {\n",
              "    0% {\n",
              "      border-color: transparent;\n",
              "      border-bottom-color: var(--fill-color);\n",
              "      border-left-color: var(--fill-color);\n",
              "    }\n",
              "    20% {\n",
              "      border-color: transparent;\n",
              "      border-left-color: var(--fill-color);\n",
              "      border-top-color: var(--fill-color);\n",
              "    }\n",
              "    30% {\n",
              "      border-color: transparent;\n",
              "      border-left-color: var(--fill-color);\n",
              "      border-top-color: var(--fill-color);\n",
              "      border-right-color: var(--fill-color);\n",
              "    }\n",
              "    40% {\n",
              "      border-color: transparent;\n",
              "      border-right-color: var(--fill-color);\n",
              "      border-top-color: var(--fill-color);\n",
              "    }\n",
              "    60% {\n",
              "      border-color: transparent;\n",
              "      border-right-color: var(--fill-color);\n",
              "    }\n",
              "    80% {\n",
              "      border-color: transparent;\n",
              "      border-right-color: var(--fill-color);\n",
              "      border-bottom-color: var(--fill-color);\n",
              "    }\n",
              "    90% {\n",
              "      border-color: transparent;\n",
              "      border-bottom-color: var(--fill-color);\n",
              "    }\n",
              "  }\n",
              "</style>\n",
              "\n",
              "      <script>\n",
              "        async function quickchart(key) {\n",
              "          const quickchartButtonEl =\n",
              "            document.querySelector('#' + key + ' button');\n",
              "          quickchartButtonEl.disabled = true;  // To prevent multiple clicks.\n",
              "          quickchartButtonEl.classList.add('colab-df-spinner');\n",
              "          try {\n",
              "            const charts = await google.colab.kernel.invokeFunction(\n",
              "                'suggestCharts', [key], {});\n",
              "          } catch (error) {\n",
              "            console.error('Error during call to suggestCharts:', error);\n",
              "          }\n",
              "          quickchartButtonEl.classList.remove('colab-df-spinner');\n",
              "          quickchartButtonEl.classList.add('colab-df-quickchart-complete');\n",
              "        }\n",
              "        (() => {\n",
              "          let quickchartButtonEl =\n",
              "            document.querySelector('#df-50c535f4-d40f-4c8b-b390-03c49ff786b6 button');\n",
              "          quickchartButtonEl.style.display =\n",
              "            google.colab.kernel.accessAllowed ? 'block' : 'none';\n",
              "        })();\n",
              "      </script>\n",
              "    </div>\n",
              "\n",
              "    </div>\n",
              "  </div>\n"
            ],
            "application/vnd.google.colaboratory.intrinsic+json": {
              "type": "dataframe",
              "variable_name": "df"
            }
          },
          "metadata": {},
          "execution_count": 8
        }
      ],
      "source": [
        "df.head()"
      ]
    },
    {
      "cell_type": "markdown",
      "metadata": {
        "id": "79O5lispg7HS"
      },
      "source": [
        "- Menampilkan informasi umum tentang dataset, seperti jumlah baris dan kolom, tipe data tiap kolom, serta jumlah data yang tidak kosong (non-null)."
      ]
    },
    {
      "cell_type": "code",
      "execution_count": 9,
      "metadata": {
        "id": "eIAaysLThT6H",
        "colab": {
          "base_uri": "https://localhost:8080/"
        },
        "outputId": "6e74cef5-dcb7-4605-d448-96c7071a5b10"
      },
      "outputs": [
        {
          "output_type": "stream",
          "name": "stdout",
          "text": [
            "Informasi Dataset :\n",
            "<class 'pandas.core.frame.DataFrame'>\n",
            "RangeIndex: 58592 entries, 0 to 58591\n",
            "Data columns (total 41 columns):\n",
            " #   Column                            Non-Null Count  Dtype  \n",
            "---  ------                            --------------  -----  \n",
            " 0   policy_id                         58592 non-null  object \n",
            " 1   subscription_length               58592 non-null  float64\n",
            " 2   vehicle_age                       58592 non-null  float64\n",
            " 3   customer_age                      58592 non-null  int64  \n",
            " 4   region_code                       58592 non-null  object \n",
            " 5   region_density                    58592 non-null  int64  \n",
            " 6   segment                           58592 non-null  object \n",
            " 7   model                             58592 non-null  object \n",
            " 8   fuel_type                         58592 non-null  object \n",
            " 9   max_torque                        58592 non-null  object \n",
            " 10  max_power                         58592 non-null  object \n",
            " 11  engine_type                       58592 non-null  object \n",
            " 12  airbags                           58592 non-null  int64  \n",
            " 13  is_esc                            58592 non-null  object \n",
            " 14  is_adjustable_steering            58592 non-null  object \n",
            " 15  is_tpms                           58592 non-null  object \n",
            " 16  is_parking_sensors                58592 non-null  object \n",
            " 17  is_parking_camera                 58592 non-null  object \n",
            " 18  rear_brakes_type                  58592 non-null  object \n",
            " 19  displacement                      58592 non-null  int64  \n",
            " 20  cylinder                          58592 non-null  int64  \n",
            " 21  transmission_type                 58592 non-null  object \n",
            " 22  steering_type                     58592 non-null  object \n",
            " 23  turning_radius                    58592 non-null  float64\n",
            " 24  length                            58592 non-null  int64  \n",
            " 25  width                             58592 non-null  int64  \n",
            " 26  gross_weight                      58592 non-null  int64  \n",
            " 27  is_front_fog_lights               58592 non-null  object \n",
            " 28  is_rear_window_wiper              58592 non-null  object \n",
            " 29  is_rear_window_washer             58592 non-null  object \n",
            " 30  is_rear_window_defogger           58592 non-null  object \n",
            " 31  is_brake_assist                   58592 non-null  object \n",
            " 32  is_power_door_locks               58592 non-null  object \n",
            " 33  is_central_locking                58592 non-null  object \n",
            " 34  is_power_steering                 58592 non-null  object \n",
            " 35  is_driver_seat_height_adjustable  58592 non-null  object \n",
            " 36  is_day_night_rear_view_mirror     58592 non-null  object \n",
            " 37  is_ecw                            58592 non-null  object \n",
            " 38  is_speed_alert                    58592 non-null  object \n",
            " 39  ncap_rating                       58592 non-null  int64  \n",
            " 40  claim_status                      58592 non-null  int64  \n",
            "dtypes: float64(3), int64(10), object(28)\n",
            "memory usage: 18.3+ MB\n"
          ]
        }
      ],
      "source": [
        "print(\"Informasi Dataset :\")\n",
        "df.info()"
      ]
    },
    {
      "cell_type": "markdown",
      "metadata": {
        "id": "YkIeXVF5hjXF"
      },
      "source": [
        "Maka dapatlah informasi dataset tersebut memiliki 41 kolom dengan 58592 baris. Dan type datanya sendiri yaitu terdapat float64 3 kolom, int64 10 kolom, dan type data object 28 kolom."
      ]
    },
    {
      "cell_type": "markdown",
      "metadata": {
        "id": "SiGEI6x3iLFw"
      },
      "source": [
        "- Melakukan Missing Value"
      ]
    },
    {
      "cell_type": "code",
      "execution_count": 10,
      "metadata": {
        "id": "M9F02e0fiHvQ",
        "colab": {
          "base_uri": "https://localhost:8080/"
        },
        "outputId": "b9c33b78-80ee-440c-de64-e563d2e4ab90"
      },
      "outputs": [
        {
          "output_type": "stream",
          "name": "stdout",
          "text": [
            "Missing Value : \n",
            "policy_id                           0\n",
            "subscription_length                 0\n",
            "vehicle_age                         0\n",
            "customer_age                        0\n",
            "region_code                         0\n",
            "region_density                      0\n",
            "segment                             0\n",
            "model                               0\n",
            "fuel_type                           0\n",
            "max_torque                          0\n",
            "max_power                           0\n",
            "engine_type                         0\n",
            "airbags                             0\n",
            "is_esc                              0\n",
            "is_adjustable_steering              0\n",
            "is_tpms                             0\n",
            "is_parking_sensors                  0\n",
            "is_parking_camera                   0\n",
            "rear_brakes_type                    0\n",
            "displacement                        0\n",
            "cylinder                            0\n",
            "transmission_type                   0\n",
            "steering_type                       0\n",
            "turning_radius                      0\n",
            "length                              0\n",
            "width                               0\n",
            "gross_weight                        0\n",
            "is_front_fog_lights                 0\n",
            "is_rear_window_wiper                0\n",
            "is_rear_window_washer               0\n",
            "is_rear_window_defogger             0\n",
            "is_brake_assist                     0\n",
            "is_power_door_locks                 0\n",
            "is_central_locking                  0\n",
            "is_power_steering                   0\n",
            "is_driver_seat_height_adjustable    0\n",
            "is_day_night_rear_view_mirror       0\n",
            "is_ecw                              0\n",
            "is_speed_alert                      0\n",
            "ncap_rating                         0\n",
            "claim_status                        0\n",
            "dtype: int64\n"
          ]
        }
      ],
      "source": [
        "print(\"Missing Value : \")\n",
        "print(df.isnull().sum())"
      ]
    },
    {
      "cell_type": "markdown",
      "metadata": {
        "id": "uXqQkWoFiyTo"
      },
      "source": [
        "Dari hasil diatas dataset tidak memiliki missing value. Sehingga, tidak perlu dilakukan penanganan terhadap missing value tersebut."
      ]
    },
    {
      "cell_type": "markdown",
      "metadata": {
        "id": "TM1A7k_Fj-AC"
      },
      "source": [
        "- Mengecek data duplikat pada dataset"
      ]
    },
    {
      "cell_type": "code",
      "execution_count": 11,
      "metadata": {
        "id": "T06Zt_uhj5v6",
        "colab": {
          "base_uri": "https://localhost:8080/"
        },
        "outputId": "d051f3d4-f3d3-4dbc-8089-706e50bf76d4"
      },
      "outputs": [
        {
          "output_type": "stream",
          "name": "stdout",
          "text": [
            "Jumlah Data Duplikat : \n",
            "0\n"
          ]
        }
      ],
      "source": [
        "print(\"Jumlah Data Duplikat : \")\n",
        "print(df.duplicated().sum())"
      ]
    },
    {
      "cell_type": "markdown",
      "metadata": {
        "id": "ZH6lqHBzkVLZ"
      },
      "source": [
        "Maka, dapat dikatakan bahwa dataset tidak memiliki data duplikat."
      ]
    },
    {
      "cell_type": "markdown",
      "metadata": {
        "id": "PKE1DSCDkfh5"
      },
      "source": [
        "- Menampilkan Statistik Deskriptif dari dataset"
      ]
    },
    {
      "cell_type": "code",
      "execution_count": 12,
      "metadata": {
        "id": "dbNpqxuFkl-F",
        "colab": {
          "base_uri": "https://localhost:8080/",
          "height": 338
        },
        "outputId": "bda445b5-3b24-4cbc-dd39-b61ac787ea4f"
      },
      "outputs": [
        {
          "output_type": "stream",
          "name": "stdout",
          "text": [
            "Statistik Deskriptif : \n"
          ]
        },
        {
          "output_type": "execute_result",
          "data": {
            "text/plain": [
              "       subscription_length   vehicle_age  customer_age  region_density  \\\n",
              "count         58592.000000  58592.000000  58592.000000    58592.000000   \n",
              "mean              6.111688      1.388473     44.823935    18826.858667   \n",
              "std               4.142790      1.134413      6.935604    17660.174792   \n",
              "min               0.000000      0.000000     35.000000      290.000000   \n",
              "25%               2.100000      0.400000     39.000000     6112.000000   \n",
              "50%               5.700000      1.200000     44.000000     8794.000000   \n",
              "75%              10.400000      2.200000     49.000000    27003.000000   \n",
              "max              14.000000     20.000000     75.000000    73430.000000   \n",
              "\n",
              "            airbags  displacement      cylinder  turning_radius        length  \\\n",
              "count  58592.000000  58592.000000  58592.000000    58592.000000  58592.000000   \n",
              "mean       3.137066   1162.355851      3.626963        4.852893   3850.476891   \n",
              "std        1.832641    266.304786      0.483616        0.228061    311.457119   \n",
              "min        1.000000    796.000000      3.000000        4.500000   3445.000000   \n",
              "25%        2.000000    796.000000      3.000000        4.600000   3445.000000   \n",
              "50%        2.000000   1197.000000      4.000000        4.800000   3845.000000   \n",
              "75%        6.000000   1493.000000      4.000000        5.000000   3995.000000   \n",
              "max        6.000000   1498.000000      4.000000        5.200000   4300.000000   \n",
              "\n",
              "              width  gross_weight   ncap_rating  claim_status  \n",
              "count  58592.000000  58592.000000  58592.000000  58592.000000  \n",
              "mean    1672.233667   1385.276813      1.759950      0.063968  \n",
              "std      112.089135    212.423085      1.389576      0.244698  \n",
              "min     1475.000000   1051.000000      0.000000      0.000000  \n",
              "25%     1515.000000   1185.000000      0.000000      0.000000  \n",
              "50%     1735.000000   1335.000000      2.000000      0.000000  \n",
              "75%     1755.000000   1510.000000      3.000000      0.000000  \n",
              "max     1811.000000   1720.000000      5.000000      1.000000  "
            ],
            "text/html": [
              "\n",
              "  <div id=\"df-b1795651-24b9-4fae-96c8-09bd7bcd3286\" class=\"colab-df-container\">\n",
              "    <div>\n",
              "<style scoped>\n",
              "    .dataframe tbody tr th:only-of-type {\n",
              "        vertical-align: middle;\n",
              "    }\n",
              "\n",
              "    .dataframe tbody tr th {\n",
              "        vertical-align: top;\n",
              "    }\n",
              "\n",
              "    .dataframe thead th {\n",
              "        text-align: right;\n",
              "    }\n",
              "</style>\n",
              "<table border=\"1\" class=\"dataframe\">\n",
              "  <thead>\n",
              "    <tr style=\"text-align: right;\">\n",
              "      <th></th>\n",
              "      <th>subscription_length</th>\n",
              "      <th>vehicle_age</th>\n",
              "      <th>customer_age</th>\n",
              "      <th>region_density</th>\n",
              "      <th>airbags</th>\n",
              "      <th>displacement</th>\n",
              "      <th>cylinder</th>\n",
              "      <th>turning_radius</th>\n",
              "      <th>length</th>\n",
              "      <th>width</th>\n",
              "      <th>gross_weight</th>\n",
              "      <th>ncap_rating</th>\n",
              "      <th>claim_status</th>\n",
              "    </tr>\n",
              "  </thead>\n",
              "  <tbody>\n",
              "    <tr>\n",
              "      <th>count</th>\n",
              "      <td>58592.000000</td>\n",
              "      <td>58592.000000</td>\n",
              "      <td>58592.000000</td>\n",
              "      <td>58592.000000</td>\n",
              "      <td>58592.000000</td>\n",
              "      <td>58592.000000</td>\n",
              "      <td>58592.000000</td>\n",
              "      <td>58592.000000</td>\n",
              "      <td>58592.000000</td>\n",
              "      <td>58592.000000</td>\n",
              "      <td>58592.000000</td>\n",
              "      <td>58592.000000</td>\n",
              "      <td>58592.000000</td>\n",
              "    </tr>\n",
              "    <tr>\n",
              "      <th>mean</th>\n",
              "      <td>6.111688</td>\n",
              "      <td>1.388473</td>\n",
              "      <td>44.823935</td>\n",
              "      <td>18826.858667</td>\n",
              "      <td>3.137066</td>\n",
              "      <td>1162.355851</td>\n",
              "      <td>3.626963</td>\n",
              "      <td>4.852893</td>\n",
              "      <td>3850.476891</td>\n",
              "      <td>1672.233667</td>\n",
              "      <td>1385.276813</td>\n",
              "      <td>1.759950</td>\n",
              "      <td>0.063968</td>\n",
              "    </tr>\n",
              "    <tr>\n",
              "      <th>std</th>\n",
              "      <td>4.142790</td>\n",
              "      <td>1.134413</td>\n",
              "      <td>6.935604</td>\n",
              "      <td>17660.174792</td>\n",
              "      <td>1.832641</td>\n",
              "      <td>266.304786</td>\n",
              "      <td>0.483616</td>\n",
              "      <td>0.228061</td>\n",
              "      <td>311.457119</td>\n",
              "      <td>112.089135</td>\n",
              "      <td>212.423085</td>\n",
              "      <td>1.389576</td>\n",
              "      <td>0.244698</td>\n",
              "    </tr>\n",
              "    <tr>\n",
              "      <th>min</th>\n",
              "      <td>0.000000</td>\n",
              "      <td>0.000000</td>\n",
              "      <td>35.000000</td>\n",
              "      <td>290.000000</td>\n",
              "      <td>1.000000</td>\n",
              "      <td>796.000000</td>\n",
              "      <td>3.000000</td>\n",
              "      <td>4.500000</td>\n",
              "      <td>3445.000000</td>\n",
              "      <td>1475.000000</td>\n",
              "      <td>1051.000000</td>\n",
              "      <td>0.000000</td>\n",
              "      <td>0.000000</td>\n",
              "    </tr>\n",
              "    <tr>\n",
              "      <th>25%</th>\n",
              "      <td>2.100000</td>\n",
              "      <td>0.400000</td>\n",
              "      <td>39.000000</td>\n",
              "      <td>6112.000000</td>\n",
              "      <td>2.000000</td>\n",
              "      <td>796.000000</td>\n",
              "      <td>3.000000</td>\n",
              "      <td>4.600000</td>\n",
              "      <td>3445.000000</td>\n",
              "      <td>1515.000000</td>\n",
              "      <td>1185.000000</td>\n",
              "      <td>0.000000</td>\n",
              "      <td>0.000000</td>\n",
              "    </tr>\n",
              "    <tr>\n",
              "      <th>50%</th>\n",
              "      <td>5.700000</td>\n",
              "      <td>1.200000</td>\n",
              "      <td>44.000000</td>\n",
              "      <td>8794.000000</td>\n",
              "      <td>2.000000</td>\n",
              "      <td>1197.000000</td>\n",
              "      <td>4.000000</td>\n",
              "      <td>4.800000</td>\n",
              "      <td>3845.000000</td>\n",
              "      <td>1735.000000</td>\n",
              "      <td>1335.000000</td>\n",
              "      <td>2.000000</td>\n",
              "      <td>0.000000</td>\n",
              "    </tr>\n",
              "    <tr>\n",
              "      <th>75%</th>\n",
              "      <td>10.400000</td>\n",
              "      <td>2.200000</td>\n",
              "      <td>49.000000</td>\n",
              "      <td>27003.000000</td>\n",
              "      <td>6.000000</td>\n",
              "      <td>1493.000000</td>\n",
              "      <td>4.000000</td>\n",
              "      <td>5.000000</td>\n",
              "      <td>3995.000000</td>\n",
              "      <td>1755.000000</td>\n",
              "      <td>1510.000000</td>\n",
              "      <td>3.000000</td>\n",
              "      <td>0.000000</td>\n",
              "    </tr>\n",
              "    <tr>\n",
              "      <th>max</th>\n",
              "      <td>14.000000</td>\n",
              "      <td>20.000000</td>\n",
              "      <td>75.000000</td>\n",
              "      <td>73430.000000</td>\n",
              "      <td>6.000000</td>\n",
              "      <td>1498.000000</td>\n",
              "      <td>4.000000</td>\n",
              "      <td>5.200000</td>\n",
              "      <td>4300.000000</td>\n",
              "      <td>1811.000000</td>\n",
              "      <td>1720.000000</td>\n",
              "      <td>5.000000</td>\n",
              "      <td>1.000000</td>\n",
              "    </tr>\n",
              "  </tbody>\n",
              "</table>\n",
              "</div>\n",
              "    <div class=\"colab-df-buttons\">\n",
              "\n",
              "  <div class=\"colab-df-container\">\n",
              "    <button class=\"colab-df-convert\" onclick=\"convertToInteractive('df-b1795651-24b9-4fae-96c8-09bd7bcd3286')\"\n",
              "            title=\"Convert this dataframe to an interactive table.\"\n",
              "            style=\"display:none;\">\n",
              "\n",
              "  <svg xmlns=\"http://www.w3.org/2000/svg\" height=\"24px\" viewBox=\"0 -960 960 960\">\n",
              "    <path d=\"M120-120v-720h720v720H120Zm60-500h600v-160H180v160Zm220 220h160v-160H400v160Zm0 220h160v-160H400v160ZM180-400h160v-160H180v160Zm440 0h160v-160H620v160ZM180-180h160v-160H180v160Zm440 0h160v-160H620v160Z\"/>\n",
              "  </svg>\n",
              "    </button>\n",
              "\n",
              "  <style>\n",
              "    .colab-df-container {\n",
              "      display:flex;\n",
              "      gap: 12px;\n",
              "    }\n",
              "\n",
              "    .colab-df-convert {\n",
              "      background-color: #E8F0FE;\n",
              "      border: none;\n",
              "      border-radius: 50%;\n",
              "      cursor: pointer;\n",
              "      display: none;\n",
              "      fill: #1967D2;\n",
              "      height: 32px;\n",
              "      padding: 0 0 0 0;\n",
              "      width: 32px;\n",
              "    }\n",
              "\n",
              "    .colab-df-convert:hover {\n",
              "      background-color: #E2EBFA;\n",
              "      box-shadow: 0px 1px 2px rgba(60, 64, 67, 0.3), 0px 1px 3px 1px rgba(60, 64, 67, 0.15);\n",
              "      fill: #174EA6;\n",
              "    }\n",
              "\n",
              "    .colab-df-buttons div {\n",
              "      margin-bottom: 4px;\n",
              "    }\n",
              "\n",
              "    [theme=dark] .colab-df-convert {\n",
              "      background-color: #3B4455;\n",
              "      fill: #D2E3FC;\n",
              "    }\n",
              "\n",
              "    [theme=dark] .colab-df-convert:hover {\n",
              "      background-color: #434B5C;\n",
              "      box-shadow: 0px 1px 3px 1px rgba(0, 0, 0, 0.15);\n",
              "      filter: drop-shadow(0px 1px 2px rgba(0, 0, 0, 0.3));\n",
              "      fill: #FFFFFF;\n",
              "    }\n",
              "  </style>\n",
              "\n",
              "    <script>\n",
              "      const buttonEl =\n",
              "        document.querySelector('#df-b1795651-24b9-4fae-96c8-09bd7bcd3286 button.colab-df-convert');\n",
              "      buttonEl.style.display =\n",
              "        google.colab.kernel.accessAllowed ? 'block' : 'none';\n",
              "\n",
              "      async function convertToInteractive(key) {\n",
              "        const element = document.querySelector('#df-b1795651-24b9-4fae-96c8-09bd7bcd3286');\n",
              "        const dataTable =\n",
              "          await google.colab.kernel.invokeFunction('convertToInteractive',\n",
              "                                                    [key], {});\n",
              "        if (!dataTable) return;\n",
              "\n",
              "        const docLinkHtml = 'Like what you see? Visit the ' +\n",
              "          '<a target=\"_blank\" href=https://colab.research.google.com/notebooks/data_table.ipynb>data table notebook</a>'\n",
              "          + ' to learn more about interactive tables.';\n",
              "        element.innerHTML = '';\n",
              "        dataTable['output_type'] = 'display_data';\n",
              "        await google.colab.output.renderOutput(dataTable, element);\n",
              "        const docLink = document.createElement('div');\n",
              "        docLink.innerHTML = docLinkHtml;\n",
              "        element.appendChild(docLink);\n",
              "      }\n",
              "    </script>\n",
              "  </div>\n",
              "\n",
              "\n",
              "    <div id=\"df-c1dbcc38-7aad-410b-85cd-4b126981018b\">\n",
              "      <button class=\"colab-df-quickchart\" onclick=\"quickchart('df-c1dbcc38-7aad-410b-85cd-4b126981018b')\"\n",
              "                title=\"Suggest charts\"\n",
              "                style=\"display:none;\">\n",
              "\n",
              "<svg xmlns=\"http://www.w3.org/2000/svg\" height=\"24px\"viewBox=\"0 0 24 24\"\n",
              "     width=\"24px\">\n",
              "    <g>\n",
              "        <path d=\"M19 3H5c-1.1 0-2 .9-2 2v14c0 1.1.9 2 2 2h14c1.1 0 2-.9 2-2V5c0-1.1-.9-2-2-2zM9 17H7v-7h2v7zm4 0h-2V7h2v10zm4 0h-2v-4h2v4z\"/>\n",
              "    </g>\n",
              "</svg>\n",
              "      </button>\n",
              "\n",
              "<style>\n",
              "  .colab-df-quickchart {\n",
              "      --bg-color: #E8F0FE;\n",
              "      --fill-color: #1967D2;\n",
              "      --hover-bg-color: #E2EBFA;\n",
              "      --hover-fill-color: #174EA6;\n",
              "      --disabled-fill-color: #AAA;\n",
              "      --disabled-bg-color: #DDD;\n",
              "  }\n",
              "\n",
              "  [theme=dark] .colab-df-quickchart {\n",
              "      --bg-color: #3B4455;\n",
              "      --fill-color: #D2E3FC;\n",
              "      --hover-bg-color: #434B5C;\n",
              "      --hover-fill-color: #FFFFFF;\n",
              "      --disabled-bg-color: #3B4455;\n",
              "      --disabled-fill-color: #666;\n",
              "  }\n",
              "\n",
              "  .colab-df-quickchart {\n",
              "    background-color: var(--bg-color);\n",
              "    border: none;\n",
              "    border-radius: 50%;\n",
              "    cursor: pointer;\n",
              "    display: none;\n",
              "    fill: var(--fill-color);\n",
              "    height: 32px;\n",
              "    padding: 0;\n",
              "    width: 32px;\n",
              "  }\n",
              "\n",
              "  .colab-df-quickchart:hover {\n",
              "    background-color: var(--hover-bg-color);\n",
              "    box-shadow: 0 1px 2px rgba(60, 64, 67, 0.3), 0 1px 3px 1px rgba(60, 64, 67, 0.15);\n",
              "    fill: var(--button-hover-fill-color);\n",
              "  }\n",
              "\n",
              "  .colab-df-quickchart-complete:disabled,\n",
              "  .colab-df-quickchart-complete:disabled:hover {\n",
              "    background-color: var(--disabled-bg-color);\n",
              "    fill: var(--disabled-fill-color);\n",
              "    box-shadow: none;\n",
              "  }\n",
              "\n",
              "  .colab-df-spinner {\n",
              "    border: 2px solid var(--fill-color);\n",
              "    border-color: transparent;\n",
              "    border-bottom-color: var(--fill-color);\n",
              "    animation:\n",
              "      spin 1s steps(1) infinite;\n",
              "  }\n",
              "\n",
              "  @keyframes spin {\n",
              "    0% {\n",
              "      border-color: transparent;\n",
              "      border-bottom-color: var(--fill-color);\n",
              "      border-left-color: var(--fill-color);\n",
              "    }\n",
              "    20% {\n",
              "      border-color: transparent;\n",
              "      border-left-color: var(--fill-color);\n",
              "      border-top-color: var(--fill-color);\n",
              "    }\n",
              "    30% {\n",
              "      border-color: transparent;\n",
              "      border-left-color: var(--fill-color);\n",
              "      border-top-color: var(--fill-color);\n",
              "      border-right-color: var(--fill-color);\n",
              "    }\n",
              "    40% {\n",
              "      border-color: transparent;\n",
              "      border-right-color: var(--fill-color);\n",
              "      border-top-color: var(--fill-color);\n",
              "    }\n",
              "    60% {\n",
              "      border-color: transparent;\n",
              "      border-right-color: var(--fill-color);\n",
              "    }\n",
              "    80% {\n",
              "      border-color: transparent;\n",
              "      border-right-color: var(--fill-color);\n",
              "      border-bottom-color: var(--fill-color);\n",
              "    }\n",
              "    90% {\n",
              "      border-color: transparent;\n",
              "      border-bottom-color: var(--fill-color);\n",
              "    }\n",
              "  }\n",
              "</style>\n",
              "\n",
              "      <script>\n",
              "        async function quickchart(key) {\n",
              "          const quickchartButtonEl =\n",
              "            document.querySelector('#' + key + ' button');\n",
              "          quickchartButtonEl.disabled = true;  // To prevent multiple clicks.\n",
              "          quickchartButtonEl.classList.add('colab-df-spinner');\n",
              "          try {\n",
              "            const charts = await google.colab.kernel.invokeFunction(\n",
              "                'suggestCharts', [key], {});\n",
              "          } catch (error) {\n",
              "            console.error('Error during call to suggestCharts:', error);\n",
              "          }\n",
              "          quickchartButtonEl.classList.remove('colab-df-spinner');\n",
              "          quickchartButtonEl.classList.add('colab-df-quickchart-complete');\n",
              "        }\n",
              "        (() => {\n",
              "          let quickchartButtonEl =\n",
              "            document.querySelector('#df-c1dbcc38-7aad-410b-85cd-4b126981018b button');\n",
              "          quickchartButtonEl.style.display =\n",
              "            google.colab.kernel.accessAllowed ? 'block' : 'none';\n",
              "        })();\n",
              "      </script>\n",
              "    </div>\n",
              "\n",
              "    </div>\n",
              "  </div>\n"
            ],
            "application/vnd.google.colaboratory.intrinsic+json": {
              "type": "dataframe",
              "summary": "{\n  \"name\": \"df\",\n  \"rows\": 8,\n  \"fields\": [\n    {\n      \"column\": \"subscription_length\",\n      \"properties\": {\n        \"dtype\": \"number\",\n        \"std\": 20713.25646291438,\n        \"min\": 0.0,\n        \"max\": 58592.0,\n        \"num_unique_values\": 8,\n        \"samples\": [\n          6.111687602403057,\n          5.7,\n          58592.0\n        ],\n        \"semantic_type\": \"\",\n        \"description\": \"\"\n      }\n    },\n    {\n      \"column\": \"vehicle_age\",\n      \"properties\": {\n        \"dtype\": \"number\",\n        \"std\": 20714.071826424297,\n        \"min\": 0.0,\n        \"max\": 58592.0,\n        \"num_unique_values\": 8,\n        \"samples\": [\n          1.3884728290551613,\n          1.2,\n          58592.0\n        ],\n        \"semantic_type\": \"\",\n        \"description\": \"\"\n      }\n    },\n    {\n      \"column\": \"customer_age\",\n      \"properties\": {\n        \"dtype\": \"number\",\n        \"std\": 20700.571575010814,\n        \"min\": 6.935604135671692,\n        \"max\": 58592.0,\n        \"num_unique_values\": 8,\n        \"samples\": [\n          44.823935008192244,\n          44.0,\n          58592.0\n        ],\n        \"semantic_type\": \"\",\n        \"description\": \"\"\n      }\n    },\n    {\n      \"column\": \"region_density\",\n      \"properties\": {\n        \"dtype\": \"number\",\n        \"std\": 26146.626150665004,\n        \"min\": 290.0,\n        \"max\": 73430.0,\n        \"num_unique_values\": 8,\n        \"samples\": [\n          18826.858666712178,\n          8794.0,\n          58592.0\n        ],\n        \"semantic_type\": \"\",\n        \"description\": \"\"\n      }\n    },\n    {\n      \"column\": \"airbags\",\n      \"properties\": {\n        \"dtype\": \"number\",\n        \"std\": 20714.290710888334,\n        \"min\": 1.0,\n        \"max\": 58592.0,\n        \"num_unique_values\": 6,\n        \"samples\": [\n          58592.0,\n          3.137066493719279,\n          6.0\n        ],\n        \"semantic_type\": \"\",\n        \"description\": \"\"\n      }\n    },\n    {\n      \"column\": \"displacement\",\n      \"properties\": {\n        \"dtype\": \"number\",\n        \"std\": 20355.41935501295,\n        \"min\": 266.30478640198635,\n        \"max\": 58592.0,\n        \"num_unique_values\": 7,\n        \"samples\": [\n          58592.0,\n          1162.3558506280722,\n          1493.0\n        ],\n        \"semantic_type\": \"\",\n        \"description\": \"\"\n      }\n    },\n    {\n      \"column\": \"cylinder\",\n      \"properties\": {\n        \"dtype\": \"number\",\n        \"std\": 20714.283541699708,\n        \"min\": 0.4836160234473858,\n        \"max\": 58592.0,\n        \"num_unique_values\": 5,\n        \"samples\": [\n          3.6269627252867287,\n          4.0,\n          0.4836160234473858\n        ],\n        \"semantic_type\": \"\",\n        \"description\": \"\"\n      }\n    },\n    {\n      \"column\": \"turning_radius\",\n      \"properties\": {\n        \"dtype\": \"number\",\n        \"std\": 20713.926464516288,\n        \"min\": 0.2280608176394917,\n        \"max\": 58592.0,\n        \"num_unique_values\": 8,\n        \"samples\": [\n          4.852892886400874,\n          4.8,\n          58592.0\n        ],\n        \"semantic_type\": \"\",\n        \"description\": \"\"\n      }\n    },\n    {\n      \"column\": \"length\",\n      \"properties\": {\n        \"dtype\": \"number\",\n        \"std\": 19584.393418728534,\n        \"min\": 311.45711893864865,\n        \"max\": 58592.0,\n        \"num_unique_values\": 7,\n        \"samples\": [\n          58592.0,\n          3850.4768910431458,\n          3995.0\n        ],\n        \"semantic_type\": \"\",\n        \"description\": \"\"\n      }\n    },\n    {\n      \"column\": \"width\",\n      \"properties\": {\n        \"dtype\": \"number\",\n        \"std\": 20214.111272708284,\n        \"min\": 112.08913487766648,\n        \"max\": 58592.0,\n        \"num_unique_values\": 8,\n        \"samples\": [\n          1672.2336667121792,\n          1735.0,\n          58592.0\n        ],\n        \"semantic_type\": \"\",\n        \"description\": \"\"\n      }\n    },\n    {\n      \"column\": \"gross_weight\",\n      \"properties\": {\n        \"dtype\": \"number\",\n        \"std\": 20296.188580678714,\n        \"min\": 212.4230851157975,\n        \"max\": 58592.0,\n        \"num_unique_values\": 8,\n        \"samples\": [\n          1385.2768125341343,\n          1335.0,\n          58592.0\n        ],\n        \"semantic_type\": \"\",\n        \"description\": \"\"\n      }\n    },\n    {\n      \"column\": \"ncap_rating\",\n      \"properties\": {\n        \"dtype\": \"number\",\n        \"std\": 20714.736173445515,\n        \"min\": 0.0,\n        \"max\": 58592.0,\n        \"num_unique_values\": 7,\n        \"samples\": [\n          58592.0,\n          1.7599501638448936,\n          3.0\n        ],\n        \"semantic_type\": \"\",\n        \"description\": \"\"\n      }\n    },\n    {\n      \"column\": \"claim_status\",\n      \"properties\": {\n        \"dtype\": \"number\",\n        \"std\": 20715.334166882392,\n        \"min\": 0.0,\n        \"max\": 58592.0,\n        \"num_unique_values\": 5,\n        \"samples\": [\n          0.06396777717094485,\n          1.0,\n          0.24469761458740896\n        ],\n        \"semantic_type\": \"\",\n        \"description\": \"\"\n      }\n    }\n  ]\n}"
            }
          },
          "metadata": {},
          "execution_count": 12
        }
      ],
      "source": [
        "print(\"Statistik Deskriptif : \")\n",
        "df.describe()"
      ]
    },
    {
      "cell_type": "markdown",
      "metadata": {
        "id": "UfUOwfQ2klbO"
      },
      "source": [
        "Insight dari Statistik yaitu :\n",
        "\n",
        "Berdasarkan statistik deskriptif data klaim asuransi mobil, sebagian besar pelanggan memiliki masa berlangganan sekitar 6 tahun dengan usia kendaraan relatif baru (rata-rata 1,39 tahun) dan usia pelanggan berkisar antara 35 hingga 75 tahun, dengan rata-rata 44 tahun. Mayoritas tinggal di wilayah dengan kepadatan sedang hingga tinggi, meskipun terdapat outlier dengan kepadatan ekstrem. Rata-rata kendaraan memiliki 2–3 airbag, kapasitas mesin sekitar 1162 cc, dan konfigurasi 4 silinder yang umum pada mobil kecil hingga menengah. Dimensi kendaraan menunjukkan ukuran kompak, cocok untuk lingkungan perkotaan, dan rating keselamatan NCAP sebagian besar rendah (rata-rata hanya 1,76), yang bisa meningkatkan risiko klaim. Meski begitu, hanya sekitar 6,4% pelanggan yang tercatat mengajukan klaim, menunjukkan bahwa data cukup imbalance. Faktor-faktor seperti usia kendaraan, jumlah airbag, rating NCAP, dan kepadatan wilayah kemungkinan besar berkontribusi terhadap tingkat klaim dan perlu dianalisis lebih lanjut."
      ]
    },
    {
      "cell_type": "markdown",
      "metadata": {
        "id": "SdlGJTRPCka7"
      },
      "source": [
        "3. Penanganan Outlier Deteksi"
      ]
    },
    {
      "cell_type": "markdown",
      "source": [
        "Setelah melakukan pengecekan outlier pada tahap sebelumnya, ditemukan banyak outlier dalam dataset. Oleh karena itu, diperlukan penanganan terhadap outlier. Namun, sebelum melakukan penanganan, perlu dipastikan bahwa tipe data pada setiap kolom sudah sesuai. Beberapa kolom yang seharusnya bertipe kategori saat ini telah diubah menjadi numerik. Hal ini perlu diperbaiki agar proses deteksi dan penanganan outlier hanya dilakukan pada data numerik yang benar-benar bersifat kontinu, sehingga hasil analisis menjadi lebih akurat dan representatif.\n",
        "\n",
        "Kenapa perlunya memisahkan kategori & numerik?\n",
        "- Karena deteksi outlier (misalnya dengan IQR, Z-score, atau boxplot) hanya relevan untuk variabel numerik kontinu.\n",
        "- Variabel kategori (misalnya: jenis kelamin, status, atau jurusan) yang dikodekan sebagai angka tidak seharusnya dianggap numerik saat menghitung outlier, karena nilainya tidak memiliki arti matematis."
      ],
      "metadata": {
        "id": "cXVidJsOEd34"
      }
    },
    {
      "cell_type": "markdown",
      "source": [
        "- Deteksi sebelum outlier dengan IQR"
      ],
      "metadata": {
        "id": "axEUYLhbvbNq"
      }
    },
    {
      "cell_type": "code",
      "source": [
        "num_feature = df.select_dtypes(include=['int64', 'float64']).columns\n",
        "num_feature"
      ],
      "metadata": {
        "colab": {
          "base_uri": "https://localhost:8080/"
        },
        "id": "CpLJciZtbldU",
        "outputId": "f602fb22-a11f-4fb2-d453-667a95188139"
      },
      "execution_count": 13,
      "outputs": [
        {
          "output_type": "execute_result",
          "data": {
            "text/plain": [
              "Index(['subscription_length', 'vehicle_age', 'customer_age', 'region_density',\n",
              "       'airbags', 'displacement', 'cylinder', 'turning_radius', 'length',\n",
              "       'width', 'gross_weight', 'ncap_rating', 'claim_status'],\n",
              "      dtype='object')"
            ]
          },
          "metadata": {},
          "execution_count": 13
        }
      ]
    },
    {
      "cell_type": "code",
      "source": [
        "for col in num_feature:\n",
        "    print(f\"\\nOutliers pada kolom: {col}\")\n",
        "    Q1 = df[col].quantile(0.25)\n",
        "    Q3 = df[col].quantile(0.75)\n",
        "    IQR = Q3 - Q1\n",
        "    low = Q1 - 1.5 * IQR\n",
        "    high = Q3 + 1.5 * IQR\n",
        "    outliers = df[(df[col] < low) | (df[col] > high)]\n",
        "    print(f\"Jumlah outliers: {outliers.shape[0]}\")"
      ],
      "metadata": {
        "colab": {
          "base_uri": "https://localhost:8080/"
        },
        "id": "rlCCYQvLcdpM",
        "outputId": "877768d7-ee59-464f-9cb7-968c1d191782"
      },
      "execution_count": 14,
      "outputs": [
        {
          "output_type": "stream",
          "name": "stdout",
          "text": [
            "\n",
            "Outliers pada kolom: subscription_length\n",
            "Jumlah outliers: 0\n",
            "\n",
            "Outliers pada kolom: vehicle_age\n",
            "Jumlah outliers: 269\n",
            "\n",
            "Outliers pada kolom: customer_age\n",
            "Jumlah outliers: 282\n",
            "\n",
            "Outliers pada kolom: region_density\n",
            "Jumlah outliers: 3647\n",
            "\n",
            "Outliers pada kolom: airbags\n",
            "Jumlah outliers: 0\n",
            "\n",
            "Outliers pada kolom: displacement\n",
            "Jumlah outliers: 0\n",
            "\n",
            "Outliers pada kolom: cylinder\n",
            "Jumlah outliers: 0\n",
            "\n",
            "Outliers pada kolom: turning_radius\n",
            "Jumlah outliers: 0\n",
            "\n",
            "Outliers pada kolom: length\n",
            "Jumlah outliers: 0\n",
            "\n",
            "Outliers pada kolom: width\n",
            "Jumlah outliers: 0\n",
            "\n",
            "Outliers pada kolom: gross_weight\n",
            "Jumlah outliers: 0\n",
            "\n",
            "Outliers pada kolom: ncap_rating\n",
            "Jumlah outliers: 0\n",
            "\n",
            "Outliers pada kolom: claim_status\n",
            "Jumlah outliers: 3748\n"
          ]
        }
      ]
    },
    {
      "cell_type": "markdown",
      "metadata": {
        "id": "RqSCP2p3oUgc"
      },
      "source": [
        "### Exploratory Data Analysis"
      ]
    },
    {
      "cell_type": "code",
      "source": [
        "df.claim_status.value_counts()"
      ],
      "metadata": {
        "colab": {
          "base_uri": "https://localhost:8080/",
          "height": 178
        },
        "id": "I77jBjDHSVFs",
        "outputId": "d22cef7c-cd95-41a0-855f-a6fabafc8ff0"
      },
      "execution_count": 32,
      "outputs": [
        {
          "output_type": "execute_result",
          "data": {
            "text/plain": [
              "claim_status\n",
              "0    54844\n",
              "1     3748\n",
              "Name: count, dtype: int64"
            ],
            "text/html": [
              "<div>\n",
              "<style scoped>\n",
              "    .dataframe tbody tr th:only-of-type {\n",
              "        vertical-align: middle;\n",
              "    }\n",
              "\n",
              "    .dataframe tbody tr th {\n",
              "        vertical-align: top;\n",
              "    }\n",
              "\n",
              "    .dataframe thead th {\n",
              "        text-align: right;\n",
              "    }\n",
              "</style>\n",
              "<table border=\"1\" class=\"dataframe\">\n",
              "  <thead>\n",
              "    <tr style=\"text-align: right;\">\n",
              "      <th></th>\n",
              "      <th>count</th>\n",
              "    </tr>\n",
              "    <tr>\n",
              "      <th>claim_status</th>\n",
              "      <th></th>\n",
              "    </tr>\n",
              "  </thead>\n",
              "  <tbody>\n",
              "    <tr>\n",
              "      <th>0</th>\n",
              "      <td>54844</td>\n",
              "    </tr>\n",
              "    <tr>\n",
              "      <th>1</th>\n",
              "      <td>3748</td>\n",
              "    </tr>\n",
              "  </tbody>\n",
              "</table>\n",
              "</div><br><label><b>dtype:</b> int64</label>"
            ]
          },
          "metadata": {},
          "execution_count": 32
        }
      ]
    },
    {
      "cell_type": "markdown",
      "metadata": {
        "id": "K8vyr-f0ob13"
      },
      "source": [
        "Exploratory Data Analysis (EDA) adalah proses untuk memahami data secara mendalam sebelum modeling. Langkah-langkahnya meliputi melihat struktur dan ringkasan data, menganalisis distribusi fitur, menemukan outlier, dan mengevaluasi hubungan antar variabel. Tujuannya adalah untuk menemukan pola, anomali, dan insight awal yang membantu dalam menentukan strategi preprocessing dan pemilihan model yang tepat."
      ]
    },
    {
      "cell_type": "markdown",
      "metadata": {
        "id": "CduGXllkojVK"
      },
      "source": [
        "- Mendistribusikan Fitur Kategorikal"
      ]
    },
    {
      "cell_type": "code",
      "execution_count": null,
      "metadata": {
        "id": "EoXhIWwLotYM"
      },
      "outputs": [],
      "source": [
        "kategori = df.select_dtypes(include='object')\n",
        "\n",
        "n_cols = 3\n",
        "n_rows = 3\n",
        "plots_per_page = n_cols * n_rows\n",
        "\n",
        "for i in range (0, len(kategori.columns), plots_per_page):\n",
        "  sub_cols = kategori.columns[i:i + plots_per_page]\n",
        "  fig, axes = plt.subplots(n_rows, n_cols, figsize=(20, 16))\n",
        "  axes = axes.flatten()\n",
        "\n",
        "  for j, col in enumerate(sub_cols):\n",
        "    sns.countplot(data=df, x=col, order=df[col].value_counts().index, ax=axes[j], color='lightgreen')\n",
        "    axes[j].set_title(f'Distribusi Kategori : {col}')\n",
        "    axes[j].set_xlabel(\"\")\n",
        "    axes[j].tick_params(axis='x', rotation=75)\n",
        "\n",
        "  for k in range (j + 1, plots_per_page) :\n",
        "    fig.delaxes(axes[k])\n",
        "\n",
        "plt.tight_layout()\n",
        "plt.show()"
      ]
    },
    {
      "cell_type": "markdown",
      "metadata": {
        "id": "V5prxGdYrsnf"
      },
      "source": [
        "Menvisualisasikan distribusi semua kolom kategorikal dalam dataset dengan membuat grafik countplot secara bertahap per 8 fitur per halaman. Hal ini membantu memahami sebaran kategori di setiap fitur, seperti dominasi kelas atau ketidakseimbangan data."
      ]
    },
    {
      "cell_type": "markdown",
      "metadata": {
        "id": "fYUpPa3gvuQ8"
      },
      "source": [
        "- Mendistribusikan Fitur Numerik"
      ]
    },
    {
      "cell_type": "code",
      "execution_count": null,
      "metadata": {
        "id": "g90MJHAWvtlN"
      },
      "outputs": [],
      "source": [
        "num_vars = df.select_dtypes(include='number').columns\n",
        "n_cols = 3\n",
        "n_rows = -(-len(num_vars) // n_cols)\n",
        "\n",
        "fig, axes = plt.subplots(n_rows, n_cols, figsize=(20, n_rows * 4))\n",
        "axes = axes.flatten()\n",
        "\n",
        "for i, column in enumerate(num_vars):\n",
        "    df[column].hist(ax=axes[i], bins=20, edgecolor='black', color='lightgreen')\n",
        "    axes[i].set_title(column)\n",
        "    axes[i].set_xlabel('Value')\n",
        "    axes[i].set_ylabel('Frequency')\n",
        "\n",
        "for j in range(i + 1, len(axes)):\n",
        "    fig.delaxes(axes[j])\n",
        "\n",
        "plt.tight_layout()\n",
        "plt.show()"
      ]
    },
    {
      "cell_type": "markdown",
      "metadata": {
        "id": "afKiJr5WxboP"
      },
      "source": [
        "Membuat Histogram semua fitur numerik dalam dataset, sehingga bisa melihat distribusi masing-masing fitur secara visual. Histogram membantu mengidentifikasi pola distribusi data seperti normal, miring, atau adanya outlier."
      ]
    },
    {
      "cell_type": "markdown",
      "metadata": {
        "id": "SlRNHYfyrsEf"
      },
      "source": [
        "- Boxplot Dateksi Outlier"
      ]
    },
    {
      "cell_type": "code",
      "source": [
        "print('--- Cek Outlier dengan Boxplot ---')\n",
        "plt.figure(figsize=(16, 10))\n",
        "for i, col in enumerate(num_feature):\n",
        "    plt.subplot((len(num_feature) + 2)//3, 3, i+1)\n",
        "    sns.boxplot(x=df[col])\n",
        "    plt.title(col)\n",
        "plt.tight_layout()\n",
        "plt.show()"
      ],
      "metadata": {
        "id": "s2-7yWE9lhlU"
      },
      "execution_count": null,
      "outputs": []
    },
    {
      "cell_type": "markdown",
      "metadata": {
        "id": "Gd4zoIv4yP8a"
      },
      "source": [
        "- Distribusi semua data"
      ]
    },
    {
      "cell_type": "code",
      "execution_count": null,
      "metadata": {
        "id": "MAsBdWT9zWXW"
      },
      "outputs": [],
      "source": [
        "# cek distribusi data\n",
        "print('Cek Distribusi Data')\n",
        "for feature in df.columns:\n",
        "    plt.figure(figsize=(10,6))\n",
        "    sns.histplot(df[feature], color='lightgreen', kde=True)\n",
        "    plt.title(f'Distribusi {feature}')\n",
        "    plt.xlabel(feature)\n",
        "    plt.ylabel('Frekuensi')\n",
        "    plt.show()"
      ]
    },
    {
      "cell_type": "code",
      "source": [
        "# Hitung jumlah per kategori\n",
        "jumlah_per_status = df['claim_status'].value_counts()\n",
        "\n",
        "# Buat pie chart\n",
        "plt.figure(figsize=(6,6))\n",
        "plt.pie(jumlah_per_status, labels=jumlah_per_status.index, autopct='%1.1f%%', startangle=90)\n",
        "plt.title('Distribusi Status Klaim')\n",
        "plt.axis('equal')  # supaya pie chart bulat sempurna\n",
        "\n",
        "# Buat legend dengan nama + jumlah data (count)\n",
        "labels_legend = [f\"{cat}: {count}\" for cat, count in zip(jumlah_per_status.index, jumlah_per_status.values)]\n",
        "plt.legend(labels_legend, loc='lower center', bbox_to_anchor=(0.5, -0.1), ncol=len(jumlah_per_status))\n",
        "\n",
        "plt.show()"
      ],
      "metadata": {
        "id": "oEYRyFGBYsXO"
      },
      "execution_count": null,
      "outputs": []
    },
    {
      "cell_type": "code",
      "source": [
        "# Filter hanya kolom numerik\n",
        "numeric_columns = df.select_dtypes(include=[np.number])\n",
        "\n",
        "# Korelasi antar Fitur\n",
        "plt.figure(figsize=(20, 12))\n",
        "sns.heatmap(numeric_columns.corr(), annot=True, fmt=\".2f\", cmap='coolwarm')\n",
        "plt.title('Heatmap Korelasi Antar Fitur')\n",
        "plt.show()"
      ],
      "metadata": {
        "id": "04HKVSTxgLJV"
      },
      "execution_count": null,
      "outputs": []
    },
    {
      "cell_type": "markdown",
      "metadata": {
        "id": "zk4EibSUOIBq"
      },
      "source": [
        "## Data Preparation / Preprocessing"
      ]
    },
    {
      "cell_type": "markdown",
      "source": [
        "6. Train-test Split / Splitting data"
      ],
      "metadata": {
        "id": "sOfYxH7dcxSH"
      }
    },
    {
      "cell_type": "code",
      "source": [
        "X = df.drop(columns=['claim_status', 'policy_id'])  # policy_id dibuang karena ID unik\n",
        "y = df['claim_status']\n",
        "\n",
        "# Split: 80% data latih, 20% data uji\n",
        "X_train, X_test, y_train, y_test = train_test_split(\n",
        "    X, y, test_size=0.2, random_state=42, stratify=y\n",
        ")\n",
        "\n",
        "# Cek distribusi target\n",
        "print(\"\\nDistribusi y_train:\")\n",
        "print(y_train.value_counts(normalize=True))\n",
        "\n",
        "print(\"\\nDistribusi y_test:\")\n",
        "print(y_test.value_counts(normalize=True))\n"
      ],
      "metadata": {
        "colab": {
          "base_uri": "https://localhost:8080/"
        },
        "id": "rJYCPC56lx_G",
        "outputId": "8158c9d6-9045-4559-92e4-1aac7089d2fe"
      },
      "execution_count": 15,
      "outputs": [
        {
          "output_type": "stream",
          "name": "stdout",
          "text": [
            "\n",
            "Distribusi y_train:\n",
            "claim_status\n",
            "0    0.93604\n",
            "1    0.06396\n",
            "Name: proportion, dtype: float64\n",
            "\n",
            "Distribusi y_test:\n",
            "claim_status\n",
            "0    0.936001\n",
            "1    0.063999\n",
            "Name: proportion, dtype: float64\n"
          ]
        }
      ]
    },
    {
      "cell_type": "markdown",
      "source": [
        "7. Encoding dan Scaling"
      ],
      "metadata": {
        "id": "jkyfkxYIeURp"
      }
    },
    {
      "cell_type": "code",
      "source": [
        "# Fitur numerik\n",
        "num_features = X_train.select_dtypes(include=['int64', 'float64']).columns.tolist()\n",
        "\n",
        "# Fitur kategorik\n",
        "cat_features = X_train.select_dtypes(include=['object']).columns.tolist()\n",
        "\n",
        "# Pipeline untuk fitur numerik\n",
        "num_pipeline = Pipeline([\n",
        "    ('scaler', StandardScaler())\n",
        "])\n",
        "\n",
        "# Pipeline untuk fitur kategorik\n",
        "cat_pipeline = Pipeline([\n",
        "    # Change 'sparse=False' to 'sparse_output=False'\n",
        "    ('encoder', OneHotEncoder(handle_unknown='ignore', sparse_output=False))\n",
        "])\n",
        "\n",
        "# Gabungkan keduanya\n",
        "preprocessor = ColumnTransformer([\n",
        "    ('num', num_pipeline, num_features),\n",
        "    ('cat', cat_pipeline, cat_features)\n",
        "])"
      ],
      "metadata": {
        "id": "3yTpfpBQmRVR"
      },
      "execution_count": 16,
      "outputs": []
    },
    {
      "cell_type": "code",
      "source": [
        "# Fit dan transform X_train\n",
        "X_train_preprocessed = preprocessor.fit_transform(X_train)\n",
        "\n",
        "# Transform X_test\n",
        "X_test_preprocessed = preprocessor.transform(X_test)\n"
      ],
      "metadata": {
        "id": "pjVsiE8T9-7O"
      },
      "execution_count": 17,
      "outputs": []
    },
    {
      "cell_type": "code",
      "source": [
        "print(\"Shape X_train sebelum:\", X_train.shape)\n",
        "print(\"Shape X_train sesudah:\", X_train_preprocessed.shape)\n"
      ],
      "metadata": {
        "colab": {
          "base_uri": "https://localhost:8080/"
        },
        "id": "oofIcmoSm2w8",
        "outputId": "507f17a9-0eeb-4aac-b51b-b8c69d3226e0"
      },
      "execution_count": 18,
      "outputs": [
        {
          "output_type": "stream",
          "name": "stdout",
          "text": [
            "Shape X_train sebelum: (46873, 39)\n",
            "Shape X_train sesudah: (46873, 124)\n"
          ]
        }
      ]
    },
    {
      "cell_type": "markdown",
      "source": [],
      "metadata": {
        "id": "uO8Mx0SUHlLk"
      }
    },
    {
      "cell_type": "code",
      "source": [
        "# === KONVERSI KE ARRAY ===\n",
        "X_array = np.array(X_train_preprocessed)\n",
        "y_array = np.array(y_train)"
      ],
      "metadata": {
        "id": "ffqv5znBHksv"
      },
      "execution_count": 19,
      "outputs": []
    },
    {
      "cell_type": "markdown",
      "source": [
        "8. Oversampling Menggunakan SMOTE"
      ],
      "metadata": {
        "id": "8hKwWrGC7HJp"
      }
    },
    {
      "cell_type": "code",
      "source": [
        "# === VISUALISASI DENGAN PCA ===\n",
        "def plot_data(X, y, title):\n",
        "    pca = PCA(n_components=2)\n",
        "    X_2d = pca.fit_transform(X)\n",
        "    plt.figure(figsize=(6, 4))\n",
        "    plt.scatter(X_2d[y == 0, 0], X_2d[y == 0, 1], label=\"Tidak Claim\", alpha=0.5)\n",
        "    plt.scatter(X_2d[y == 1, 0], X_2d[y == 1, 1], label=\"Claim\", alpha=0.5, c='r')\n",
        "    plt.title(title)\n",
        "    plt.legend()\n",
        "    plt.show()\n",
        "\n",
        "plot_data(X_array, y_array, \"Sebaran Data Sebelum SMOTE\")"
      ],
      "metadata": {
        "id": "Em2Y7B3A6RRV",
        "outputId": "c8e378b0-558f-4756-dff4-81f6eb0d038b",
        "colab": {
          "base_uri": "https://localhost:8080/",
          "height": 391
        }
      },
      "execution_count": 20,
      "outputs": [
        {
          "output_type": "display_data",
          "data": {
            "text/plain": [
              "<Figure size 600x400 with 1 Axes>"
            ],
            "image/png": "[encoded data removed]"
          },
          "metadata": {}
        }
      ]
    },
    {
      "cell_type": "code",
      "source": [
        "# === CEK KOMPOSISI LABEL SEBELUM SMOTE ===\n",
        "print(\"\\nKomposisi label sebelum SMOTE:\")\n",
        "print(pd.Series(y_array).value_counts())\n"
      ],
      "metadata": {
        "id": "7PuyIn2B6b7B",
        "colab": {
          "base_uri": "https://localhost:8080/"
        },
        "outputId": "b53bb068-06e0-437f-ed04-9c3060be0ddb"
      },
      "execution_count": 21,
      "outputs": [
        {
          "output_type": "stream",
          "name": "stdout",
          "text": [
            "\n",
            "Komposisi label sebelum SMOTE:\n",
            "0    43875\n",
            "1     2998\n",
            "Name: count, dtype: int64\n"
          ]
        }
      ]
    },
    {
      "cell_type": "code",
      "source": [
        "# === SMOTE ===\n",
        "smote = SMOTE(random_state=42)\n",
        "X_resampled, y_resampled = smote.fit_resample(X_array, y_array)"
      ],
      "metadata": {
        "id": "YLBTUAC56ik7"
      },
      "execution_count": 23,
      "outputs": []
    },
    {
      "cell_type": "code",
      "source": [
        "# === VISUALISASI SETELAH SMOTE ===\n",
        "plot_data(X_resampled, y_resampled, \"Sebaran Data Setelah SMOTE\")\n",
        "print(\"\\nKomposisi label setelah SMOTE:\")\n",
        "print(pd.Series(y_resampled).value_counts())"
      ],
      "metadata": {
        "id": "1PfJnaPt61lz",
        "outputId": "b169341e-cee7-49f5-cedf-f9f2b3e10d84",
        "colab": {
          "base_uri": "https://localhost:8080/",
          "height": 478
        }
      },
      "execution_count": 24,
      "outputs": [
        {
          "output_type": "display_data",
          "data": {
            "text/plain": [
              "<Figure size 600x400 with 1 Axes>"
            ],
            "image/png": "[encoded data removed]"
          },
          "metadata": {}
        },
        {
          "output_type": "stream",
          "name": "stdout",
          "text": [
            "\n",
            "Komposisi label setelah SMOTE:\n",
            "0    43875\n",
            "1    43875\n",
            "Name: count, dtype: int64\n"
          ]
        }
      ]
    },
    {
      "cell_type": "code",
      "source": [
        "# === LATIH MODEL MENGGUNAKAN DATA SMOTE ===\n",
        "dt_model = DecisionTreeClassifier(random_state=42)\n",
        "rf_model = RandomForestClassifier(random_state=42)\n",
        "\n",
        "dt_model.fit(X_resampled, y_resampled)\n",
        "rf_model.fit(X_resampled, y_resampled)"
      ],
      "metadata": {
        "id": "Y7W98_9n7B6a",
        "outputId": "511e81de-fcfb-476b-c3aa-e6b18603b6b6",
        "colab": {
          "base_uri": "https://localhost:8080/",
          "height": 80
        }
      },
      "execution_count": 25,
      "outputs": [
        {
          "output_type": "execute_result",
          "data": {
            "text/plain": [
              "RandomForestClassifier(random_state=42)"
            ],
            "text/html": [
              "<style>#sk-container-id-1 {\n",
              "  /* Definition of color scheme common for light and dark mode */\n",
              "  --sklearn-color-text: #000;\n",
              "  --sklearn-color-text-muted: #666;\n",
              "  --sklearn-color-line: gray;\n",
              "  /* Definition of color scheme for unfitted estimators */\n",
              "  --sklearn-color-unfitted-level-0: #fff5e6;\n",
              "  --sklearn-color-unfitted-level-1: #f6e4d2;\n",
              "  --sklearn-color-unfitted-level-2: #ffe0b3;\n",
              "  --sklearn-color-unfitted-level-3: chocolate;\n",
              "  /* Definition of color scheme for fitted estimators */\n",
              "  --sklearn-color-fitted-level-0: #f0f8ff;\n",
              "  --sklearn-color-fitted-level-1: #d4ebff;\n",
              "  --sklearn-color-fitted-level-2: #b3dbfd;\n",
              "  --sklearn-color-fitted-level-3: cornflowerblue;\n",
              "\n",
              "  /* Specific color for light theme */\n",
              "  --sklearn-color-text-on-default-background: var(--sg-text-color, var(--theme-code-foreground, var(--jp-content-font-color1, black)));\n",
              "  --sklearn-color-background: var(--sg-background-color, var(--theme-background, var(--jp-layout-color0, white)));\n",
              "  --sklearn-color-border-box: var(--sg-text-color, var(--theme-code-foreground, var(--jp-content-font-color1, black)));\n",
              "  --sklearn-color-icon: #696969;\n",
              "\n",
              "  @media (prefers-color-scheme: dark) {\n",
              "    /* Redefinition of color scheme for dark theme */\n",
              "    --sklearn-color-text-on-default-background: var(--sg-text-color, var(--theme-code-foreground, var(--jp-content-font-color1, white)));\n",
              "    --sklearn-color-background: var(--sg-background-color, var(--theme-background, var(--jp-layout-color0, #111)));\n",
              "    --sklearn-color-border-box: var(--sg-text-color, var(--theme-code-foreground, var(--jp-content-font-color1, white)));\n",
              "    --sklearn-color-icon: #878787;\n",
              "  }\n",
              "}\n",
              "\n",
              "#sk-container-id-1 {\n",
              "  color: var(--sklearn-color-text);\n",
              "}\n",
              "\n",
              "#sk-container-id-1 pre {\n",
              "  padding: 0;\n",
              "}\n",
              "\n",
              "#sk-container-id-1 input.sk-hidden--visually {\n",
              "  border: 0;\n",
              "  clip: rect(1px 1px 1px 1px);\n",
              "  clip: rect(1px, 1px, 1px, 1px);\n",
              "  height: 1px;\n",
              "  margin: -1px;\n",
              "  overflow: hidden;\n",
              "  padding: 0;\n",
              "  position: absolute;\n",
              "  width: 1px;\n",
              "}\n",
              "\n",
              "#sk-container-id-1 div.sk-dashed-wrapped {\n",
              "  border: 1px dashed var(--sklearn-color-line);\n",
              "  margin: 0 0.4em 0.5em 0.4em;\n",
              "  box-sizing: border-box;\n",
              "  padding-bottom: 0.4em;\n",
              "  background-color: var(--sklearn-color-background);\n",
              "}\n",
              "\n",
              "#sk-container-id-1 div.sk-container {\n",
              "  /* jupyter's `normalize.less` sets `[hidden] { display: none; }`\n",
              "     but bootstrap.min.css set `[hidden] { display: none !important; }`\n",
              "     so we also need the `!important` here to be able to override the\n",
              "     default hidden behavior on the sphinx rendered scikit-learn.org.\n",
              "     See: https://github.com/scikit-learn/scikit-learn/issues/21755 */\n",
              "  display: inline-block !important;\n",
              "  position: relative;\n",
              "}\n",
              "\n",
              "#sk-container-id-1 div.sk-text-repr-fallback {\n",
              "  display: none;\n",
              "}\n",
              "\n",
              "div.sk-parallel-item,\n",
              "div.sk-serial,\n",
              "div.sk-item {\n",
              "  /* draw centered vertical line to link estimators */\n",
              "  background-image: linear-gradient(var(--sklearn-color-text-on-default-background), var(--sklearn-color-text-on-default-background));\n",
              "  background-size: 2px 100%;\n",
              "  background-repeat: no-repeat;\n",
              "  background-position: center center;\n",
              "}\n",
              "\n",
              "/* Parallel-specific style estimator block */\n",
              "\n",
              "#sk-container-id-1 div.sk-parallel-item::after {\n",
              "  content: \"\";\n",
              "  width: 100%;\n",
              "  border-bottom: 2px solid var(--sklearn-color-text-on-default-background);\n",
              "  flex-grow: 1;\n",
              "}\n",
              "\n",
              "#sk-container-id-1 div.sk-parallel {\n",
              "  display: flex;\n",
              "  align-items: stretch;\n",
              "  justify-content: center;\n",
              "  background-color: var(--sklearn-color-background);\n",
              "  position: relative;\n",
              "}\n",
              "\n",
              "#sk-container-id-1 div.sk-parallel-item {\n",
              "  display: flex;\n",
              "  flex-direction: column;\n",
              "}\n",
              "\n",
              "#sk-container-id-1 div.sk-parallel-item:first-child::after {\n",
              "  align-self: flex-end;\n",
              "  width: 50%;\n",
              "}\n",
              "\n",
              "#sk-container-id-1 div.sk-parallel-item:last-child::after {\n",
              "  align-self: flex-start;\n",
              "  width: 50%;\n",
              "}\n",
              "\n",
              "#sk-container-id-1 div.sk-parallel-item:only-child::after {\n",
              "  width: 0;\n",
              "}\n",
              "\n",
              "/* Serial-specific style estimator block */\n",
              "\n",
              "#sk-container-id-1 div.sk-serial {\n",
              "  display: flex;\n",
              "  flex-direction: column;\n",
              "  align-items: center;\n",
              "  background-color: var(--sklearn-color-background);\n",
              "  padding-right: 1em;\n",
              "  padding-left: 1em;\n",
              "}\n",
              "\n",
              "\n",
              "/* Toggleable style: style used for estimator/Pipeline/ColumnTransformer box that is\n",
              "clickable and can be expanded/collapsed.\n",
              "- Pipeline and ColumnTransformer use this feature and define the default style\n",
              "- Estimators will overwrite some part of the style using the `sk-estimator` class\n",
              "*/\n",
              "\n",
              "/* Pipeline and ColumnTransformer style (default) */\n",
              "\n",
              "#sk-container-id-1 div.sk-toggleable {\n",
              "  /* Default theme specific background. It is overwritten whether we have a\n",
              "  specific estimator or a Pipeline/ColumnTransformer */\n",
              "  background-color: var(--sklearn-color-background);\n",
              "}\n",
              "\n",
              "/* Toggleable label */\n",
              "#sk-container-id-1 label.sk-toggleable__label {\n",
              "  cursor: pointer;\n",
              "  display: flex;\n",
              "  width: 100%;\n",
              "  margin-bottom: 0;\n",
              "  padding: 0.5em;\n",
              "  box-sizing: border-box;\n",
              "  text-align: center;\n",
              "  align-items: start;\n",
              "  justify-content: space-between;\n",
              "  gap: 0.5em;\n",
              "}\n",
              "\n",
              "#sk-container-id-1 label.sk-toggleable__label .caption {\n",
              "  font-size: 0.6rem;\n",
              "  font-weight: lighter;\n",
              "  color: var(--sklearn-color-text-muted);\n",
              "}\n",
              "\n",
              "#sk-container-id-1 label.sk-toggleable__label-arrow:before {\n",
              "  /* Arrow on the left of the label */\n",
              "  content: \"▸\";\n",
              "  float: left;\n",
              "  margin-right: 0.25em;\n",
              "  color: var(--sklearn-color-icon);\n",
              "}\n",
              "\n",
              "#sk-container-id-1 label.sk-toggleable__label-arrow:hover:before {\n",
              "  color: var(--sklearn-color-text);\n",
              "}\n",
              "\n",
              "/* Toggleable content - dropdown */\n",
              "\n",
              "#sk-container-id-1 div.sk-toggleable__content {\n",
              "  max-height: 0;\n",
              "  max-width: 0;\n",
              "  overflow: hidden;\n",
              "  text-align: left;\n",
              "  /* unfitted */\n",
              "  background-color: var(--sklearn-color-unfitted-level-0);\n",
              "}\n",
              "\n",
              "#sk-container-id-1 div.sk-toggleable__content.fitted {\n",
              "  /* fitted */\n",
              "  background-color: var(--sklearn-color-fitted-level-0);\n",
              "}\n",
              "\n",
              "#sk-container-id-1 div.sk-toggleable__content pre {\n",
              "  margin: 0.2em;\n",
              "  border-radius: 0.25em;\n",
              "  color: var(--sklearn-color-text);\n",
              "  /* unfitted */\n",
              "  background-color: var(--sklearn-color-unfitted-level-0);\n",
              "}\n",
              "\n",
              "#sk-container-id-1 div.sk-toggleable__content.fitted pre {\n",
              "  /* unfitted */\n",
              "  background-color: var(--sklearn-color-fitted-level-0);\n",
              "}\n",
              "\n",
              "#sk-container-id-1 input.sk-toggleable__control:checked~div.sk-toggleable__content {\n",
              "  /* Expand drop-down */\n",
              "  max-height: 200px;\n",
              "  max-width: 100%;\n",
              "  overflow: auto;\n",
              "}\n",
              "\n",
              "#sk-container-id-1 input.sk-toggleable__control:checked~label.sk-toggleable__label-arrow:before {\n",
              "  content: \"▾\";\n",
              "}\n",
              "\n",
              "/* Pipeline/ColumnTransformer-specific style */\n",
              "\n",
              "#sk-container-id-1 div.sk-label input.sk-toggleable__control:checked~label.sk-toggleable__label {\n",
              "  color: var(--sklearn-color-text);\n",
              "  background-color: var(--sklearn-color-unfitted-level-2);\n",
              "}\n",
              "\n",
              "#sk-container-id-1 div.sk-label.fitted input.sk-toggleable__control:checked~label.sk-toggleable__label {\n",
              "  background-color: var(--sklearn-color-fitted-level-2);\n",
              "}\n",
              "\n",
              "/* Estimator-specific style */\n",
              "\n",
              "/* Colorize estimator box */\n",
              "#sk-container-id-1 div.sk-estimator input.sk-toggleable__control:checked~label.sk-toggleable__label {\n",
              "  /* unfitted */\n",
              "  background-color: var(--sklearn-color-unfitted-level-2);\n",
              "}\n",
              "\n",
              "#sk-container-id-1 div.sk-estimator.fitted input.sk-toggleable__control:checked~label.sk-toggleable__label {\n",
              "  /* fitted */\n",
              "  background-color: var(--sklearn-color-fitted-level-2);\n",
              "}\n",
              "\n",
              "#sk-container-id-1 div.sk-label label.sk-toggleable__label,\n",
              "#sk-container-id-1 div.sk-label label {\n",
              "  /* The background is the default theme color */\n",
              "  color: var(--sklearn-color-text-on-default-background);\n",
              "}\n",
              "\n",
              "/* On hover, darken the color of the background */\n",
              "#sk-container-id-1 div.sk-label:hover label.sk-toggleable__label {\n",
              "  color: var(--sklearn-color-text);\n",
              "  background-color: var(--sklearn-color-unfitted-level-2);\n",
              "}\n",
              "\n",
              "/* Label box, darken color on hover, fitted */\n",
              "#sk-container-id-1 div.sk-label.fitted:hover label.sk-toggleable__label.fitted {\n",
              "  color: var(--sklearn-color-text);\n",
              "  background-color: var(--sklearn-color-fitted-level-2);\n",
              "}\n",
              "\n",
              "/* Estimator label */\n",
              "\n",
              "#sk-container-id-1 div.sk-label label {\n",
              "  font-family: monospace;\n",
              "  font-weight: bold;\n",
              "  display: inline-block;\n",
              "  line-height: 1.2em;\n",
              "}\n",
              "\n",
              "#sk-container-id-1 div.sk-label-container {\n",
              "  text-align: center;\n",
              "}\n",
              "\n",
              "/* Estimator-specific */\n",
              "#sk-container-id-1 div.sk-estimator {\n",
              "  font-family: monospace;\n",
              "  border: 1px dotted var(--sklearn-color-border-box);\n",
              "  border-radius: 0.25em;\n",
              "  box-sizing: border-box;\n",
              "  margin-bottom: 0.5em;\n",
              "  /* unfitted */\n",
              "  background-color: var(--sklearn-color-unfitted-level-0);\n",
              "}\n",
              "\n",
              "#sk-container-id-1 div.sk-estimator.fitted {\n",
              "  /* fitted */\n",
              "  background-color: var(--sklearn-color-fitted-level-0);\n",
              "}\n",
              "\n",
              "/* on hover */\n",
              "#sk-container-id-1 div.sk-estimator:hover {\n",
              "  /* unfitted */\n",
              "  background-color: var(--sklearn-color-unfitted-level-2);\n",
              "}\n",
              "\n",
              "#sk-container-id-1 div.sk-estimator.fitted:hover {\n",
              "  /* fitted */\n",
              "  background-color: var(--sklearn-color-fitted-level-2);\n",
              "}\n",
              "\n",
              "/* Specification for estimator info (e.g. \"i\" and \"?\") */\n",
              "\n",
              "/* Common style for \"i\" and \"?\" */\n",
              "\n",
              ".sk-estimator-doc-link,\n",
              "a:link.sk-estimator-doc-link,\n",
              "a:visited.sk-estimator-doc-link {\n",
              "  float: right;\n",
              "  font-size: smaller;\n",
              "  line-height: 1em;\n",
              "  font-family: monospace;\n",
              "  background-color: var(--sklearn-color-background);\n",
              "  border-radius: 1em;\n",
              "  height: 1em;\n",
              "  width: 1em;\n",
              "  text-decoration: none !important;\n",
              "  margin-left: 0.5em;\n",
              "  text-align: center;\n",
              "  /* unfitted */\n",
              "  border: var(--sklearn-color-unfitted-level-1) 1pt solid;\n",
              "  color: var(--sklearn-color-unfitted-level-1);\n",
              "}\n",
              "\n",
              ".sk-estimator-doc-link.fitted,\n",
              "a:link.sk-estimator-doc-link.fitted,\n",
              "a:visited.sk-estimator-doc-link.fitted {\n",
              "  /* fitted */\n",
              "  border: var(--sklearn-color-fitted-level-1) 1pt solid;\n",
              "  color: var(--sklearn-color-fitted-level-1);\n",
              "}\n",
              "\n",
              "/* On hover */\n",
              "div.sk-estimator:hover .sk-estimator-doc-link:hover,\n",
              ".sk-estimator-doc-link:hover,\n",
              "div.sk-label-container:hover .sk-estimator-doc-link:hover,\n",
              ".sk-estimator-doc-link:hover {\n",
              "  /* unfitted */\n",
              "  background-color: var(--sklearn-color-unfitted-level-3);\n",
              "  color: var(--sklearn-color-background);\n",
              "  text-decoration: none;\n",
              "}\n",
              "\n",
              "div.sk-estimator.fitted:hover .sk-estimator-doc-link.fitted:hover,\n",
              ".sk-estimator-doc-link.fitted:hover,\n",
              "div.sk-label-container:hover .sk-estimator-doc-link.fitted:hover,\n",
              ".sk-estimator-doc-link.fitted:hover {\n",
              "  /* fitted */\n",
              "  background-color: var(--sklearn-color-fitted-level-3);\n",
              "  color: var(--sklearn-color-background);\n",
              "  text-decoration: none;\n",
              "}\n",
              "\n",
              "/* Span, style for the box shown on hovering the info icon */\n",
              ".sk-estimator-doc-link span {\n",
              "  display: none;\n",
              "  z-index: 9999;\n",
              "  position: relative;\n",
              "  font-weight: normal;\n",
              "  right: .2ex;\n",
              "  padding: .5ex;\n",
              "  margin: .5ex;\n",
              "  width: min-content;\n",
              "  min-width: 20ex;\n",
              "  max-width: 50ex;\n",
              "  color: var(--sklearn-color-text);\n",
              "  box-shadow: 2pt 2pt 4pt #999;\n",
              "  /* unfitted */\n",
              "  background: var(--sklearn-color-unfitted-level-0);\n",
              "  border: .5pt solid var(--sklearn-color-unfitted-level-3);\n",
              "}\n",
              "\n",
              ".sk-estimator-doc-link.fitted span {\n",
              "  /* fitted */\n",
              "  background: var(--sklearn-color-fitted-level-0);\n",
              "  border: var(--sklearn-color-fitted-level-3);\n",
              "}\n",
              "\n",
              ".sk-estimator-doc-link:hover span {\n",
              "  display: block;\n",
              "}\n",
              "\n",
              "/* \"?\"-specific style due to the `<a>` HTML tag */\n",
              "\n",
              "#sk-container-id-1 a.estimator_doc_link {\n",
              "  float: right;\n",
              "  font-size: 1rem;\n",
              "  line-height: 1em;\n",
              "  font-family: monospace;\n",
              "  background-color: var(--sklearn-color-background);\n",
              "  border-radius: 1rem;\n",
              "  height: 1rem;\n",
              "  width: 1rem;\n",
              "  text-decoration: none;\n",
              "  /* unfitted */\n",
              "  color: var(--sklearn-color-unfitted-level-1);\n",
              "  border: var(--sklearn-color-unfitted-level-1) 1pt solid;\n",
              "}\n",
              "\n",
              "#sk-container-id-1 a.estimator_doc_link.fitted {\n",
              "  /* fitted */\n",
              "  border: var(--sklearn-color-fitted-level-1) 1pt solid;\n",
              "  color: var(--sklearn-color-fitted-level-1);\n",
              "}\n",
              "\n",
              "/* On hover */\n",
              "#sk-container-id-1 a.estimator_doc_link:hover {\n",
              "  /* unfitted */\n",
              "  background-color: var(--sklearn-color-unfitted-level-3);\n",
              "  color: var(--sklearn-color-background);\n",
              "  text-decoration: none;\n",
              "}\n",
              "\n",
              "#sk-container-id-1 a.estimator_doc_link.fitted:hover {\n",
              "  /* fitted */\n",
              "  background-color: var(--sklearn-color-fitted-level-3);\n",
              "}\n",
              "</style><div id=\"sk-container-id-1\" class=\"sk-top-container\"><div class=\"sk-text-repr-fallback\"><pre>RandomForestClassifier(random_state=42)</pre><b>In a Jupyter environment, please rerun this cell to show the HTML representation or trust the notebook. <br />On GitHub, the HTML representation is unable to render, please try loading this page with nbviewer.org.</b></div><div class=\"sk-container\" hidden><div class=\"sk-item\"><div class=\"sk-estimator fitted sk-toggleable\"><input class=\"sk-toggleable__control sk-hidden--visually\" id=\"sk-estimator-id-1\" type=\"checkbox\" checked><label for=\"sk-estimator-id-1\" class=\"sk-toggleable__label fitted sk-toggleable__label-arrow\"><div><div>RandomForestClassifier</div></div><div><a class=\"sk-estimator-doc-link fitted\" rel=\"noreferrer\" target=\"_blank\" href=\"https://scikit-learn.org/1.6/modules/generated/sklearn.ensemble.RandomForestClassifier.html\">?<span>Documentation for RandomForestClassifier</span></a><span class=\"sk-estimator-doc-link fitted\">i<span>Fitted</span></span></div></label><div class=\"sk-toggleable__content fitted\"><pre>RandomForestClassifier(random_state=42)</pre></div> </div></div></div></div>"
            ]
          },
          "metadata": {},
          "execution_count": 25
        }
      ]
    },
    {
      "cell_type": "code",
      "source": [
        "# === PREDIKSI ===\n",
        "dt_preds = dt_model.predict(X_test_preprocessed)\n",
        "rf_preds = rf_model.predict(X_test_preprocessed)"
      ],
      "metadata": {
        "id": "7OlM0MUU7aZL"
      },
      "execution_count": 26,
      "outputs": []
    },
    {
      "cell_type": "markdown",
      "source": [
        "Setelah dilakukan oversampling pada data yang berlabel claim, maka jumlah data berlabel claim menjadi 43875 data yang sebelumnya berjumlah 2998 data."
      ],
      "metadata": {
        "id": "ImBZ3TQt7cKQ"
      }
    },
    {
      "cell_type": "markdown",
      "source": [
        "9. Principal Component Analysis (PCA)"
      ],
      "metadata": {
        "id": "RYf7ytMDewIf"
      }
    },
    {
      "cell_type": "markdown",
      "metadata": {
        "id": "FZh5BjTMmKcK"
      },
      "source": [
        "10. Save Data"
      ]
    },
    {
      "cell_type": "markdown",
      "source": [
        "## Modeling"
      ],
      "metadata": {
        "id": "4QsKXKOq97iM"
      }
    },
    {
      "cell_type": "markdown",
      "metadata": {
        "id": "BpB5WkgvOIBs"
      },
      "source": [
        "## Evaluation"
      ]
    },
    {
      "cell_type": "code",
      "source": [
        "# === EVALUASI MODEL ===\n",
        "print(\"\\n=== Decision Tree MENGGUNAKAN SMOTE ===\")\n",
        "print(classification_report(y_test, dt_preds))\n",
        "print(\"Confusion Matrix:\")\n",
        "print(confusion_matrix(y_test, dt_preds))\n",
        "\n",
        "print(\"\\n=== Random Forest MENGGUNAKAN SMOTE ===\")\n",
        "print(classification_report(y_test, rf_preds))\n",
        "print(\"Confusion Matrix:\")\n",
        "print(confusion_matrix(y_test, rf_preds))\n",
        "\n",
        "# === AUC SCORE TAMBAHAN UNTUK RANDOM FOREST ===\n",
        "probs_rf = rf_model.predict_proba(X_test_preprocessed)[:, 1]\n",
        "auc_rf = roc_auc_score(y_test, probs_rf)\n",
        "print(f\"\\nAUC ROC Random Forest: {auc_rf:.4f}\")"
      ],
      "metadata": {
        "id": "ymT5q7Q_BPY_",
        "colab": {
          "base_uri": "https://localhost:8080/"
        },
        "outputId": "1d0ffe87-2b46-42d1-b3cb-8392a3a67886"
      },
      "execution_count": 27,
      "outputs": [
        {
          "output_type": "stream",
          "name": "stdout",
          "text": [
            "\n",
            "=== Decision Tree MENGGUNAKAN SMOTE ===\n",
            "              precision    recall  f1-score   support\n",
            "\n",
            "           0       0.94      0.92      0.93     10969\n",
            "           1       0.09      0.11      0.10       750\n",
            "\n",
            "    accuracy                           0.87     11719\n",
            "   macro avg       0.51      0.52      0.51     11719\n",
            "weighted avg       0.88      0.87      0.88     11719\n",
            "\n",
            "Confusion Matrix:\n",
            "[[10093   876]\n",
            " [  664    86]]\n",
            "\n",
            "=== Random Forest MENGGUNAKAN SMOTE ===\n",
            "              precision    recall  f1-score   support\n",
            "\n",
            "           0       0.94      0.93      0.94     10969\n",
            "           1       0.09      0.09      0.09       750\n",
            "\n",
            "    accuracy                           0.88     11719\n",
            "   macro avg       0.51      0.51      0.51     11719\n",
            "weighted avg       0.88      0.88      0.88     11719\n",
            "\n",
            "Confusion Matrix:\n",
            "[[10249   720]\n",
            " [  679    71]]\n",
            "\n",
            "AUC ROC Random Forest: 0.5779\n"
          ]
        }
      ]
    },
    {
      "cell_type": "code",
      "source": [
        "# === SIMPAN MODEL ===\n",
        "joblib.dump(rf_model, \"rf_model_smote.joblib\")"
      ],
      "metadata": {
        "colab": {
          "base_uri": "https://localhost:8080/"
        },
        "id": "ASkKvUUh94iO",
        "outputId": "a3ad824c-06dc-4c82-9e49-4093ab0ad999"
      },
      "execution_count": 28,
      "outputs": [
        {
          "output_type": "execute_result",
          "data": {
            "text/plain": [
              "['rf_model_smote.joblib']"
            ]
          },
          "metadata": {},
          "execution_count": 28
        }
      ]
    },
    {
      "cell_type": "code",
      "source": [],
      "metadata": {
        "id": "gJm3XiA2-lnM"
      },
      "execution_count": null,
      "outputs": []
    },
    {
      "cell_type": "markdown",
      "source": [
        "### XGBoost dengan SMOTE"
      ],
      "metadata": {
        "id": "wp0dxiUHR8Ds"
      }
    },
    {
      "cell_type": "code",
      "source": [
        "from xgboost import XGBClassifier\n",
        "from sklearn.metrics import classification_report, roc_auc_score\n",
        "from imblearn.over_sampling import SMOTE\n",
        "\n",
        "# 1. SMOTE\n",
        "smote = SMOTE(random_state=42)\n",
        "X_resampled, y_resampled = smote.fit_resample(X_train_preprocessed, y_train)\n",
        "\n",
        "# 2. XGBoost\n",
        "xgb_model = XGBClassifier(random_state=42, use_label_encoder=False, eval_metric='logloss')\n",
        "xgb_model.fit(X_resampled, y_resampled)\n",
        "\n",
        "# 3. Evaluasi\n",
        "y_pred = xgb_model.predict(X_test_preprocessed)\n",
        "print(classification_report(y_test, y_pred))\n",
        "print(\"AUC ROC:\", roc_auc_score(y_test, xgb_model.predict_proba(X_test_preprocessed)[:, 1]))\n"
      ],
      "metadata": {
        "colab": {
          "base_uri": "https://localhost:8080/"
        },
        "id": "tD6jeuGKJf7s",
        "outputId": "3fe8b67f-f1a2-4745-946e-35eaef4d6fa4"
      },
      "execution_count": 29,
      "outputs": [
        {
          "output_type": "stream",
          "name": "stderr",
          "text": [
            "/usr/local/lib/python3.11/dist-packages/xgboost/core.py:158: UserWarning: [03:46:34] WARNING: /workspace/src/learner.cc:740: \n",
            "Parameters: { \"use_label_encoder\" } are not used.\n",
            "\n",
            "  warnings.warn(smsg, UserWarning)\n"
          ]
        },
        {
          "output_type": "stream",
          "name": "stdout",
          "text": [
            "              precision    recall  f1-score   support\n",
            "\n",
            "           0       0.94      0.99      0.96     10969\n",
            "           1       0.12      0.03      0.05       750\n",
            "\n",
            "    accuracy                           0.92     11719\n",
            "   macro avg       0.53      0.51      0.50     11719\n",
            "weighted avg       0.88      0.92      0.90     11719\n",
            "\n",
            "AUC ROC: 0.6373048287598383\n"
          ]
        }
      ]
    },
    {
      "cell_type": "markdown",
      "source": [
        "### Hyperparameter Tuning XGBoost"
      ],
      "metadata": {
        "id": "2E08g-1KR-Fl"
      }
    },
    {
      "cell_type": "code",
      "source": [
        "from sklearn.model_selection import RandomizedSearchCV\n",
        "\n",
        "params = {\n",
        "    'n_estimators': [100, 200, 300],\n",
        "    'max_depth': [3, 5, 7],\n",
        "    'learning_rate': [0.01, 0.1, 0.2],\n",
        "    'subsample': [0.8, 1.0],\n",
        "    'colsample_bytree': [0.8, 1.0],\n",
        "    'scale_pos_weight': [5, 10, 14]  # rasio class 0 / class 1\n",
        "}\n",
        "\n",
        "xgb = XGBClassifier(random_state=42, use_label_encoder=False, eval_metric='logloss')\n",
        "rs = RandomizedSearchCV(xgb, param_distributions=params, n_iter=20, cv=3, scoring='roc_auc', verbose=1, n_jobs=-1)\n",
        "\n",
        "rs.fit(X_resampled, y_resampled)\n",
        "best_model = rs.best_estimator_\n",
        "\n",
        "y_pred_best = best_model.predict(X_test_preprocessed)\n",
        "print(classification_report(y_test, y_pred_best))\n",
        "print(\"Best AUC ROC:\", roc_auc_score(y_test, best_model.predict_proba(X_test_preprocessed)[:, 1]))\n"
      ],
      "metadata": {
        "colab": {
          "base_uri": "https://localhost:8080/"
        },
        "id": "JuhyNlOHJf_S",
        "outputId": "640fa669-bec2-43aa-bbf4-4620a6477d93"
      },
      "execution_count": 30,
      "outputs": [
        {
          "output_type": "stream",
          "name": "stdout",
          "text": [
            "Fitting 3 folds for each of 20 candidates, totalling 60 fits\n"
          ]
        },
        {
          "output_type": "stream",
          "name": "stderr",
          "text": [
            "/usr/local/lib/python3.11/dist-packages/xgboost/core.py:158: UserWarning: [03:51:32] WARNING: /workspace/src/learner.cc:740: \n",
            "Parameters: { \"use_label_encoder\" } are not used.\n",
            "\n",
            "  warnings.warn(smsg, UserWarning)\n"
          ]
        },
        {
          "output_type": "stream",
          "name": "stdout",
          "text": [
            "              precision    recall  f1-score   support\n",
            "\n",
            "           0       0.95      0.73      0.82     10969\n",
            "           1       0.10      0.42      0.16       750\n",
            "\n",
            "    accuracy                           0.71     11719\n",
            "   macro avg       0.52      0.58      0.49     11719\n",
            "weighted avg       0.89      0.71      0.78     11719\n",
            "\n",
            "Best AUC ROC: 0.6089862339319901\n"
          ]
        }
      ]
    },
    {
      "cell_type": "markdown",
      "source": [
        "#### Cost-Sensitive Modeling (tanpa SMOTE)"
      ],
      "metadata": {
        "id": "mUe95KXBSFk7"
      }
    },
    {
      "cell_type": "code",
      "source": [
        "# Rasio kelas mayoritas / minoritas\n",
        "ratio = len(y_train[y_train == 0]) / len(y_train[y_train == 1])\n",
        "\n",
        "xgb_cost = XGBClassifier(\n",
        "    scale_pos_weight=ratio,\n",
        "    random_state=42,\n",
        "    use_label_encoder=False,\n",
        "    eval_metric='logloss'\n",
        ")\n",
        "\n",
        "xgb_cost.fit(X_train_preprocessed, y_train)\n",
        "y_pred_cost = xgb_cost.predict(X_test_preprocessed)\n",
        "\n",
        "print(classification_report(y_test, y_pred_cost))\n",
        "print(\"AUC ROC:\", roc_auc_score(y_test, xgb_cost.predict_proba(X_test_preprocessed)[:, 1]))\n"
      ],
      "metadata": {
        "colab": {
          "base_uri": "https://localhost:8080/"
        },
        "id": "5kaE_ivNJkMv",
        "outputId": "49b8262f-7b1d-47d9-a2ca-17dfb72d727f"
      },
      "execution_count": 31,
      "outputs": [
        {
          "output_type": "stream",
          "name": "stderr",
          "text": [
            "/usr/local/lib/python3.11/dist-packages/xgboost/core.py:158: UserWarning: [03:51:44] WARNING: /workspace/src/learner.cc:740: \n",
            "Parameters: { \"use_label_encoder\" } are not used.\n",
            "\n",
            "  warnings.warn(smsg, UserWarning)\n"
          ]
        },
        {
          "output_type": "stream",
          "name": "stdout",
          "text": [
            "              precision    recall  f1-score   support\n",
            "\n",
            "           0       0.95      0.70      0.81     10969\n",
            "           1       0.10      0.47      0.16       750\n",
            "\n",
            "    accuracy                           0.69     11719\n",
            "   macro avg       0.52      0.59      0.48     11719\n",
            "weighted avg       0.90      0.69      0.77     11719\n",
            "\n",
            "AUC ROC: 0.628149573039171\n"
          ]
        }
      ]
    },
    {
      "cell_type": "code",
      "source": [
        "import matplotlib.pyplot as plt\n",
        "import seaborn as sns\n",
        "from sklearn.metrics import roc_curve, auc, confusion_matrix, ConfusionMatrixDisplay\n",
        "\n",
        "# Simulasi nilai prediksi probabilitas dan prediksi akhir dari tiga model (Dummy Data)\n",
        "# (Dalam prakteknya, ganti dengan prediksi model yang sebenarnya)\n",
        "y_test = [0]*10969 + [1]*750  # Sesuai data sebenarnya\n",
        "# Prediksi probabilitas (Dummy)\n",
        "xgb_smote_probs = [0.05]*5000 + [0.95]*5969 + [0.1]*300 + [0.9]*450\n",
        "xgb_tuned_probs = [0.03]*4500 + [0.97]*6469 + [0.2]*250 + [0.8]*500\n",
        "xgb_cost_probs  = [0.1]*6000 + [0.9]*4969 + [0.3]*200 + [0.7]*550\n",
        "\n",
        "# Prediksi kelas (Threshold 0.5)\n",
        "xgb_smote_preds = [1 if p > 0.5 else 0 for p in xgb_smote_probs]\n",
        "xgb_tuned_preds = [1 if p > 0.5 else 0 for p in xgb_tuned_probs]\n",
        "xgb_cost_preds  = [1 if p > 0.5 else 0 for p in xgb_cost_probs]\n",
        "\n",
        "# ROC Curve\n",
        "fpr_smote, tpr_smote, _ = roc_curve(y_test, xgb_smote_probs)\n",
        "fpr_tuned, tpr_tuned, _ = roc_curve(y_test, xgb_tuned_probs)\n",
        "fpr_cost, tpr_cost, _ = roc_curve(y_test, xgb_cost_probs)\n",
        "\n",
        "auc_smote = auc(fpr_smote, tpr_smote)\n",
        "auc_tuned = auc(fpr_tuned, tpr_tuned)\n",
        "auc_cost = auc(fpr_cost, tpr_cost)\n",
        "\n",
        "# Plot ROC Curve\n",
        "plt.figure(figsize=(10, 6))\n",
        "plt.plot(fpr_smote, tpr_smote, label=f'XGBoost + SMOTE (AUC = {auc_smote:.2f})')\n",
        "plt.plot(fpr_tuned, tpr_tuned, label=f'XGBoost + Tuning (AUC = {auc_tuned:.2f})')\n",
        "plt.plot(fpr_cost, tpr_cost, label=f'XGBoost + Cost-sensitive (AUC = {auc_cost:.2f})')\n",
        "plt.plot([0, 1], [0, 1], 'k--')\n",
        "plt.xlabel('False Positive Rate')\n",
        "plt.ylabel('True Positive Rate')\n",
        "plt.title('ROC Curve - Perbandingan Model XGBoost')\n",
        "plt.legend()\n",
        "plt.grid(True)\n",
        "plt.tight_layout()\n",
        "plt.show()\n",
        "\n",
        "# Confusion Matrix Display\n",
        "fig, axes = plt.subplots(1, 3, figsize=(18, 5))\n",
        "for ax, preds, title in zip(\n",
        "    axes,\n",
        "    [xgb_smote_preds, xgb_tuned_preds, xgb_cost_preds],\n",
        "    ['XGBoost + SMOTE', 'XGBoost + Tuning', 'XGBoost + Cost-sensitive']\n",
        "):\n",
        "    cm = confusion_matrix(y_test, preds)\n",
        "    disp = ConfusionMatrixDisplay(confusion_matrix=cm, display_labels=[0, 1])\n",
        "    disp.plot(ax=ax, values_format='d', cmap='Blues')\n",
        "    ax.set_title(title)\n",
        "\n",
        "plt.tight_layout()\n",
        "plt.show()\n"
      ],
      "metadata": {
        "colab": {
          "base_uri": "https://localhost:8080/",
          "height": 1000
        },
        "id": "NwMo6Nq2UHXm",
        "outputId": "47f6d294-2ece-4977-bbd1-1542dc456032"
      },
      "execution_count": 34,
      "outputs": [
        {
          "output_type": "display_data",
          "data": {
            "text/plain": [
              "<Figure size 1000x600 with 1 Axes>"
            ],
            "image/png": "[encoded data removed]"
          },
          "metadata": {}
        },
        {
          "output_type": "display_data",
          "data": {
            "text/plain": [
              "<Figure size 1800x500 with 6 Axes>"
            ],
            "image/png": "[encoded data removed]"
          },
          "metadata": {}
        }
      ]
    },
    {
      "cell_type": "code",
      "source": [],
      "metadata": {
        "id": "sQZXLVHGUHq1"
      },
      "execution_count": null,
      "outputs": []
    }
  ],
  "metadata": {
    "colab": {
      "collapsed_sections": [
        "h1cmQ0ISOIBl",
        "4Vr6pFBUOIBm",
        "zpdzoLi6OIBo",
        "4QsKXKOq97iM",
        "BpB5WkgvOIBs"
      ],
      "provenance": [],
      "include_colab_link": true
    },
    "kernelspec": {
      "display_name": "Python 3 (ipykernel)",
      "language": "python",
      "name": "python3"
    },
    "language_info": {
      "codemirror_mode": {
        "name": "ipython",
        "version": 3
      },
      "file_extension": ".py",
      "mimetype": "text/x-python",
      "name": "python",
      "nbconvert_exporter": "python",
      "pygments_lexer": "ipython3",
      "version": "3.11.3"
    }
  },
  "nbformat": 4,
  "nbformat_minor": 0
}